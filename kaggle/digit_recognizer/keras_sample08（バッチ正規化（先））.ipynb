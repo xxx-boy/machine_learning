{
 "cells": [
  {
   "cell_type": "code",
   "execution_count": 1,
   "metadata": {},
   "outputs": [],
   "source": [
    "#バッチごとに先に正規化"
   ]
  },
  {
   "cell_type": "code",
   "execution_count": 2,
   "metadata": {},
   "outputs": [
    {
     "name": "stderr",
     "output_type": "stream",
     "text": [
      "Using TensorFlow backend.\n"
     ]
    }
   ],
   "source": [
    "import keras\n",
    "from keras.datasets import mnist\n",
    "from keras.models import Sequential\n",
    "from keras.layers import Dense, Dropout, BatchNormalization, Activation\n",
    "from keras.optimizers import RMSprop"
   ]
  },
  {
   "cell_type": "code",
   "execution_count": 3,
   "metadata": {},
   "outputs": [],
   "source": [
    "from keras.datasets import mnist\n",
    "(x_train, y_train), (x_test, y_test) = mnist.load_data()"
   ]
  },
  {
   "cell_type": "code",
   "execution_count": 4,
   "metadata": {},
   "outputs": [],
   "source": [
    "#batch_size = 128\n",
    "#epochs = 50\n",
    "num_classes = 10"
   ]
  },
  {
   "cell_type": "code",
   "execution_count": 5,
   "metadata": {},
   "outputs": [],
   "source": [
    "x_train = x_train.reshape(60000, 784)\n",
    "x_test = x_test.reshape(10000, 784)"
   ]
  },
  {
   "cell_type": "code",
   "execution_count": 6,
   "metadata": {},
   "outputs": [],
   "source": [
    "x_train = x_train.astype('float32')\n",
    "x_test = x_test.astype('float32')\n",
    "x_train /= 255\n",
    "x_test /= 255"
   ]
  },
  {
   "cell_type": "code",
   "execution_count": 7,
   "metadata": {},
   "outputs": [],
   "source": [
    "y_train = keras.utils.to_categorical(y_train, num_classes)\n",
    "y_test = keras.utils.to_categorical(y_test, num_classes)"
   ]
  },
  {
   "cell_type": "code",
   "execution_count": 44,
   "metadata": {},
   "outputs": [],
   "source": [
    "activation = \"relu\"\n",
    "out_dim = 512\n",
    "dropout = 0.2\n",
    "batch_size = 128\n",
    "epochs = 115"
   ]
  },
  {
   "cell_type": "code",
   "execution_count": 61,
   "metadata": {},
   "outputs": [
    {
     "name": "stdout",
     "output_type": "stream",
     "text": [
      "_________________________________________________________________\n",
      "Layer (type)                 Output Shape              Param #   \n",
      "=================================================================\n",
      "dense_18 (Dense)             (None, 512)               401920    \n",
      "_________________________________________________________________\n",
      "dropout_12 (Dropout)         (None, 512)               0         \n",
      "_________________________________________________________________\n",
      "dense_19 (Dense)             (None, 512)               262656    \n",
      "_________________________________________________________________\n",
      "dropout_13 (Dropout)         (None, 512)               0         \n",
      "_________________________________________________________________\n",
      "batch_normalization_8 (Batch (None, 512)               2048      \n",
      "_________________________________________________________________\n",
      "dense_20 (Dense)             (None, 10)                5130      \n",
      "=================================================================\n",
      "Total params: 671,754\n",
      "Trainable params: 670,730\n",
      "Non-trainable params: 1,024\n",
      "_________________________________________________________________\n"
     ]
    }
   ],
   "source": [
    "model  = Sequential()\n",
    "model.add(Dense(512, activation= 'relu', input_shape = (784,)))\n",
    "model.add(Dropout(dropout))\n",
    "model.add(Dense(512,activation= 'relu')) \n",
    "model.add(Dropout(dropout))\n",
    "model.add(BatchNormalization())\n",
    "model.add(Dense(10, activation = 'softmax'))\n",
    "model.summary()\n",
    "model.compile(loss='categorical_crossentropy', optimizer=RMSprop(lr=0.0009), metrics=['accuracy'])"
   ]
  },
  {
   "cell_type": "code",
   "execution_count": 62,
   "metadata": {
    "scrolled": true
   },
   "outputs": [
    {
     "name": "stdout",
     "output_type": "stream",
     "text": [
      "Train on 60000 samples, validate on 10000 samples\n",
      "Epoch 1/115\n",
      "60000/60000 [==============================] - 84s 1ms/step - loss: 0.2346 - acc: 0.9275 - val_loss: 0.1246 - val_acc: 0.9627\n",
      "Epoch 2/115\n",
      "60000/60000 [==============================] - 69s 1ms/step - loss: 0.1098 - acc: 0.9664 - val_loss: 0.0972 - val_acc: 0.9735\n",
      "Epoch 3/115\n",
      "60000/60000 [==============================] - 73s 1ms/step - loss: 0.0799 - acc: 0.9756 - val_loss: 0.0655 - val_acc: 0.9814\n",
      "Epoch 4/115\n",
      "60000/60000 [==============================] - 85s 1ms/step - loss: 0.0641 - acc: 0.9798 - val_loss: 0.0684 - val_acc: 0.9788\n",
      "Epoch 5/115\n",
      "60000/60000 [==============================] - 83s 1ms/step - loss: 0.0536 - acc: 0.9834 - val_loss: 0.0686 - val_acc: 0.9796\n",
      "Epoch 6/115\n",
      "60000/60000 [==============================] - 52s 875us/step - loss: 0.0456 - acc: 0.9859 - val_loss: 0.0580 - val_acc: 0.9833\n",
      "Epoch 7/115\n",
      "60000/60000 [==============================] - 65s 1ms/step - loss: 0.0378 - acc: 0.9881 - val_loss: 0.0661 - val_acc: 0.9803\n",
      "Epoch 8/115\n",
      "60000/60000 [==============================] - 50s 837us/step - loss: 0.0338 - acc: 0.9889 - val_loss: 0.0575 - val_acc: 0.9837\n",
      "Epoch 9/115\n",
      "60000/60000 [==============================] - 50s 831us/step - loss: 0.0311 - acc: 0.9899 - val_loss: 0.0667 - val_acc: 0.9816\n",
      "Epoch 10/115\n",
      "60000/60000 [==============================] - 51s 845us/step - loss: 0.0277 - acc: 0.9909 - val_loss: 0.0600 - val_acc: 0.9851\n",
      "Epoch 11/115\n",
      "60000/60000 [==============================] - 50s 839us/step - loss: 0.0254 - acc: 0.9916 - val_loss: 0.0606 - val_acc: 0.9839\n",
      "Epoch 12/115\n",
      "60000/60000 [==============================] - 50s 836us/step - loss: 0.0222 - acc: 0.9930 - val_loss: 0.0668 - val_acc: 0.9830\n",
      "Epoch 13/115\n",
      "60000/60000 [==============================] - 50s 835us/step - loss: 0.0219 - acc: 0.9929 - val_loss: 0.0632 - val_acc: 0.9846\n",
      "Epoch 14/115\n",
      "60000/60000 [==============================] - 51s 846us/step - loss: 0.0197 - acc: 0.9938 - val_loss: 0.0626 - val_acc: 0.9833\n",
      "Epoch 15/115\n",
      "60000/60000 [==============================] - 50s 837us/step - loss: 0.0186 - acc: 0.9941 - val_loss: 0.0655 - val_acc: 0.9844\n",
      "Epoch 16/115\n",
      "60000/60000 [==============================] - 63s 1ms/step - loss: 0.0175 - acc: 0.9947 - val_loss: 0.0718 - val_acc: 0.9823\n",
      "Epoch 17/115\n",
      "60000/60000 [==============================] - 76s 1ms/step - loss: 0.0155 - acc: 0.9951 - val_loss: 0.0663 - val_acc: 0.9835\n",
      "Epoch 18/115\n",
      "60000/60000 [==============================] - 59s 989us/step - loss: 0.0151 - acc: 0.9950 - val_loss: 0.0625 - val_acc: 0.9852\n",
      "Epoch 19/115\n",
      "60000/60000 [==============================] - 50s 834us/step - loss: 0.0146 - acc: 0.9955 - val_loss: 0.0645 - val_acc: 0.9854\n",
      "Epoch 20/115\n",
      "60000/60000 [==============================] - 53s 886us/step - loss: 0.0148 - acc: 0.9952 - val_loss: 0.0727 - val_acc: 0.9843\n",
      "Epoch 21/115\n",
      "60000/60000 [==============================] - 96s 2ms/step - loss: 0.0136 - acc: 0.9956 - val_loss: 0.0643 - val_acc: 0.9848\n",
      "Epoch 22/115\n",
      "60000/60000 [==============================] - 92s 2ms/step - loss: 0.0122 - acc: 0.9960 - val_loss: 0.0720 - val_acc: 0.9843\n",
      "Epoch 23/115\n",
      "60000/60000 [==============================] - 77s 1ms/step - loss: 0.0113 - acc: 0.9961 - val_loss: 0.0750 - val_acc: 0.9845\n",
      "Epoch 24/115\n",
      "60000/60000 [==============================] - 69s 1ms/step - loss: 0.0122 - acc: 0.9961 - val_loss: 0.0715 - val_acc: 0.9842\n",
      "Epoch 25/115\n",
      "60000/60000 [==============================] - 70s 1ms/step - loss: 0.0129 - acc: 0.9961 - val_loss: 0.0676 - val_acc: 0.9854\n",
      "Epoch 26/115\n",
      "60000/60000 [==============================] - 66s 1ms/step - loss: 0.0116 - acc: 0.9962 - val_loss: 0.0650 - val_acc: 0.9856\n",
      "Epoch 27/115\n",
      "60000/60000 [==============================] - 68s 1ms/step - loss: 0.0114 - acc: 0.9964 - val_loss: 0.0723 - val_acc: 0.9841\n",
      "Epoch 28/115\n",
      "60000/60000 [==============================] - 68s 1ms/step - loss: 0.0112 - acc: 0.9962 - val_loss: 0.0662 - val_acc: 0.9847\n",
      "Epoch 29/115\n",
      "60000/60000 [==============================] - 77s 1ms/step - loss: 0.0100 - acc: 0.9969 - val_loss: 0.0890 - val_acc: 0.9831\n",
      "Epoch 30/115\n",
      "60000/60000 [==============================] - 98s 2ms/step - loss: 0.0108 - acc: 0.9965 - val_loss: 0.0755 - val_acc: 0.9852\n",
      "Epoch 31/115\n",
      "60000/60000 [==============================] - 76s 1ms/step - loss: 0.0100 - acc: 0.9968 - val_loss: 0.0814 - val_acc: 0.9830\n",
      "Epoch 32/115\n",
      "60000/60000 [==============================] - 75s 1ms/step - loss: 0.0100 - acc: 0.9968 - val_loss: 0.0749 - val_acc: 0.9842\n",
      "Epoch 33/115\n",
      "60000/60000 [==============================] - 69s 1ms/step - loss: 0.0104 - acc: 0.9967 - val_loss: 0.0826 - val_acc: 0.9834\n",
      "Epoch 34/115\n",
      "60000/60000 [==============================] - 72s 1ms/step - loss: 0.0096 - acc: 0.9968 - val_loss: 0.0756 - val_acc: 0.9857\n",
      "Epoch 35/115\n",
      "60000/60000 [==============================] - 69s 1ms/step - loss: 0.0083 - acc: 0.9973 - val_loss: 0.0748 - val_acc: 0.9847\n",
      "Epoch 36/115\n",
      "60000/60000 [==============================] - 69s 1ms/step - loss: 0.0096 - acc: 0.9967 - val_loss: 0.0831 - val_acc: 0.9849\n",
      "Epoch 37/115\n",
      "60000/60000 [==============================] - 70s 1ms/step - loss: 0.0093 - acc: 0.9970 - val_loss: 0.0700 - val_acc: 0.9864\n",
      "Epoch 38/115\n",
      "60000/60000 [==============================] - 70s 1ms/step - loss: 0.0089 - acc: 0.9971 - val_loss: 0.0751 - val_acc: 0.9864\n",
      "Epoch 39/115\n",
      "60000/60000 [==============================] - 88s 1ms/step - loss: 0.0084 - acc: 0.9975 - val_loss: 0.0770 - val_acc: 0.9852\n",
      "Epoch 40/115\n",
      "60000/60000 [==============================] - 102s 2ms/step - loss: 0.0084 - acc: 0.9974 - val_loss: 0.0782 - val_acc: 0.9846\n",
      "Epoch 41/115\n",
      "60000/60000 [==============================] - 104s 2ms/step - loss: 0.0084 - acc: 0.9971 - val_loss: 0.0769 - val_acc: 0.9851\n",
      "Epoch 42/115\n",
      "60000/60000 [==============================] - 90s 1ms/step - loss: 0.0083 - acc: 0.9971 - val_loss: 0.0878 - val_acc: 0.9843\n",
      "Epoch 43/115\n",
      "60000/60000 [==============================] - 99s 2ms/step - loss: 0.0086 - acc: 0.9972 - val_loss: 0.0975 - val_acc: 0.9841\n",
      "Epoch 44/115\n",
      "60000/60000 [==============================] - 101s 2ms/step - loss: 0.0084 - acc: 0.9974 - val_loss: 0.0992 - val_acc: 0.9817\n",
      "Epoch 45/115\n",
      "60000/60000 [==============================] - 77s 1ms/step - loss: 0.0089 - acc: 0.9973 - val_loss: 0.0758 - val_acc: 0.9863\n",
      "Epoch 46/115\n",
      "60000/60000 [==============================] - 77s 1ms/step - loss: 0.0089 - acc: 0.9970 - val_loss: 0.0874 - val_acc: 0.9848\n",
      "Epoch 47/115\n",
      "60000/60000 [==============================] - 87s 1ms/step - loss: 0.0099 - acc: 0.9970 - val_loss: 0.0776 - val_acc: 0.9856\n",
      "Epoch 48/115\n",
      "60000/60000 [==============================] - 88s 1ms/step - loss: 0.0089 - acc: 0.9970 - val_loss: 0.0775 - val_acc: 0.9856\n",
      "Epoch 49/115\n",
      "60000/60000 [==============================] - 88s 1ms/step - loss: 0.0090 - acc: 0.9971 - val_loss: 0.0764 - val_acc: 0.9852\n",
      "Epoch 50/115\n",
      "60000/60000 [==============================] - 88s 1ms/step - loss: 0.0077 - acc: 0.9976 - val_loss: 0.0707 - val_acc: 0.9870\n",
      "Epoch 51/115\n",
      "60000/60000 [==============================] - 89s 1ms/step - loss: 0.0080 - acc: 0.9975 - val_loss: 0.0967 - val_acc: 0.9828\n",
      "Epoch 52/115\n",
      "24832/60000 [===========>..................] - ETA: 54s - loss: 0.0067 - acc: 0.9979"
     ]
    },
    {
     "ename": "KeyboardInterrupt",
     "evalue": "",
     "output_type": "error",
     "traceback": [
      "\u001b[0;31m---------------------------------------------------------------------------\u001b[0m",
      "\u001b[0;31mKeyboardInterrupt\u001b[0m                         Traceback (most recent call last)",
      "\u001b[0;32m<ipython-input-62-6aa597a75590>\u001b[0m in \u001b[0;36m<module>\u001b[0;34m\u001b[0m\n\u001b[1;32m      3\u001b[0m                     \u001b[0;34m,\u001b[0m \u001b[0mepochs\u001b[0m \u001b[0;34m=\u001b[0m \u001b[0mepochs\u001b[0m\u001b[0;34m\u001b[0m\u001b[0m\n\u001b[1;32m      4\u001b[0m                     \u001b[0;34m,\u001b[0m \u001b[0mverbose\u001b[0m \u001b[0;34m=\u001b[0m \u001b[0;36m1\u001b[0m\u001b[0;34m\u001b[0m\u001b[0m\n\u001b[0;32m----> 5\u001b[0;31m                     , validation_data=(x_test, y_test))\n\u001b[0m",
      "\u001b[0;32m~/anaconda3/envs/use_keras/lib/python3.6/site-packages/keras/engine/training.py\u001b[0m in \u001b[0;36mfit\u001b[0;34m(self, x, y, batch_size, epochs, verbose, callbacks, validation_split, validation_data, shuffle, class_weight, sample_weight, initial_epoch, steps_per_epoch, validation_steps, **kwargs)\u001b[0m\n\u001b[1;32m   1037\u001b[0m                                         \u001b[0minitial_epoch\u001b[0m\u001b[0;34m=\u001b[0m\u001b[0minitial_epoch\u001b[0m\u001b[0;34m,\u001b[0m\u001b[0;34m\u001b[0m\u001b[0m\n\u001b[1;32m   1038\u001b[0m                                         \u001b[0msteps_per_epoch\u001b[0m\u001b[0;34m=\u001b[0m\u001b[0msteps_per_epoch\u001b[0m\u001b[0;34m,\u001b[0m\u001b[0;34m\u001b[0m\u001b[0m\n\u001b[0;32m-> 1039\u001b[0;31m                                         validation_steps=validation_steps)\n\u001b[0m\u001b[1;32m   1040\u001b[0m \u001b[0;34m\u001b[0m\u001b[0m\n\u001b[1;32m   1041\u001b[0m     def evaluate(self, x=None, y=None,\n",
      "\u001b[0;32m~/anaconda3/envs/use_keras/lib/python3.6/site-packages/keras/engine/training_arrays.py\u001b[0m in \u001b[0;36mfit_loop\u001b[0;34m(model, f, ins, out_labels, batch_size, epochs, verbose, callbacks, val_f, val_ins, shuffle, callback_metrics, initial_epoch, steps_per_epoch, validation_steps)\u001b[0m\n\u001b[1;32m    197\u001b[0m                     \u001b[0mins_batch\u001b[0m\u001b[0;34m[\u001b[0m\u001b[0mi\u001b[0m\u001b[0;34m]\u001b[0m \u001b[0;34m=\u001b[0m \u001b[0mins_batch\u001b[0m\u001b[0;34m[\u001b[0m\u001b[0mi\u001b[0m\u001b[0;34m]\u001b[0m\u001b[0;34m.\u001b[0m\u001b[0mtoarray\u001b[0m\u001b[0;34m(\u001b[0m\u001b[0;34m)\u001b[0m\u001b[0;34m\u001b[0m\u001b[0m\n\u001b[1;32m    198\u001b[0m \u001b[0;34m\u001b[0m\u001b[0m\n\u001b[0;32m--> 199\u001b[0;31m                 \u001b[0mouts\u001b[0m \u001b[0;34m=\u001b[0m \u001b[0mf\u001b[0m\u001b[0;34m(\u001b[0m\u001b[0mins_batch\u001b[0m\u001b[0;34m)\u001b[0m\u001b[0;34m\u001b[0m\u001b[0m\n\u001b[0m\u001b[1;32m    200\u001b[0m                 \u001b[0mouts\u001b[0m \u001b[0;34m=\u001b[0m \u001b[0mto_list\u001b[0m\u001b[0;34m(\u001b[0m\u001b[0mouts\u001b[0m\u001b[0;34m)\u001b[0m\u001b[0;34m\u001b[0m\u001b[0m\n\u001b[1;32m    201\u001b[0m                 \u001b[0;32mfor\u001b[0m \u001b[0ml\u001b[0m\u001b[0;34m,\u001b[0m \u001b[0mo\u001b[0m \u001b[0;32min\u001b[0m \u001b[0mzip\u001b[0m\u001b[0;34m(\u001b[0m\u001b[0mout_labels\u001b[0m\u001b[0;34m,\u001b[0m \u001b[0mouts\u001b[0m\u001b[0;34m)\u001b[0m\u001b[0;34m:\u001b[0m\u001b[0;34m\u001b[0m\u001b[0m\n",
      "\u001b[0;32m~/anaconda3/envs/use_keras/lib/python3.6/site-packages/keras/backend/tensorflow_backend.py\u001b[0m in \u001b[0;36m__call__\u001b[0;34m(self, inputs)\u001b[0m\n\u001b[1;32m   2713\u001b[0m                 \u001b[0;32mreturn\u001b[0m \u001b[0mself\u001b[0m\u001b[0;34m.\u001b[0m\u001b[0m_legacy_call\u001b[0m\u001b[0;34m(\u001b[0m\u001b[0minputs\u001b[0m\u001b[0;34m)\u001b[0m\u001b[0;34m\u001b[0m\u001b[0m\n\u001b[1;32m   2714\u001b[0m \u001b[0;34m\u001b[0m\u001b[0m\n\u001b[0;32m-> 2715\u001b[0;31m             \u001b[0;32mreturn\u001b[0m \u001b[0mself\u001b[0m\u001b[0;34m.\u001b[0m\u001b[0m_call\u001b[0m\u001b[0;34m(\u001b[0m\u001b[0minputs\u001b[0m\u001b[0;34m)\u001b[0m\u001b[0;34m\u001b[0m\u001b[0m\n\u001b[0m\u001b[1;32m   2716\u001b[0m         \u001b[0;32melse\u001b[0m\u001b[0;34m:\u001b[0m\u001b[0;34m\u001b[0m\u001b[0m\n\u001b[1;32m   2717\u001b[0m             \u001b[0;32mif\u001b[0m \u001b[0mpy_any\u001b[0m\u001b[0;34m(\u001b[0m\u001b[0mis_tensor\u001b[0m\u001b[0;34m(\u001b[0m\u001b[0mx\u001b[0m\u001b[0;34m)\u001b[0m \u001b[0;32mfor\u001b[0m \u001b[0mx\u001b[0m \u001b[0;32min\u001b[0m \u001b[0minputs\u001b[0m\u001b[0;34m)\u001b[0m\u001b[0;34m:\u001b[0m\u001b[0;34m\u001b[0m\u001b[0m\n",
      "\u001b[0;32m~/anaconda3/envs/use_keras/lib/python3.6/site-packages/keras/backend/tensorflow_backend.py\u001b[0m in \u001b[0;36m_call\u001b[0;34m(self, inputs)\u001b[0m\n\u001b[1;32m   2673\u001b[0m             \u001b[0mfetched\u001b[0m \u001b[0;34m=\u001b[0m \u001b[0mself\u001b[0m\u001b[0;34m.\u001b[0m\u001b[0m_callable_fn\u001b[0m\u001b[0;34m(\u001b[0m\u001b[0;34m*\u001b[0m\u001b[0marray_vals\u001b[0m\u001b[0;34m,\u001b[0m \u001b[0mrun_metadata\u001b[0m\u001b[0;34m=\u001b[0m\u001b[0mself\u001b[0m\u001b[0;34m.\u001b[0m\u001b[0mrun_metadata\u001b[0m\u001b[0;34m)\u001b[0m\u001b[0;34m\u001b[0m\u001b[0m\n\u001b[1;32m   2674\u001b[0m         \u001b[0;32melse\u001b[0m\u001b[0;34m:\u001b[0m\u001b[0;34m\u001b[0m\u001b[0m\n\u001b[0;32m-> 2675\u001b[0;31m             \u001b[0mfetched\u001b[0m \u001b[0;34m=\u001b[0m \u001b[0mself\u001b[0m\u001b[0;34m.\u001b[0m\u001b[0m_callable_fn\u001b[0m\u001b[0;34m(\u001b[0m\u001b[0;34m*\u001b[0m\u001b[0marray_vals\u001b[0m\u001b[0;34m)\u001b[0m\u001b[0;34m\u001b[0m\u001b[0m\n\u001b[0m\u001b[1;32m   2676\u001b[0m         \u001b[0;32mreturn\u001b[0m \u001b[0mfetched\u001b[0m\u001b[0;34m[\u001b[0m\u001b[0;34m:\u001b[0m\u001b[0mlen\u001b[0m\u001b[0;34m(\u001b[0m\u001b[0mself\u001b[0m\u001b[0;34m.\u001b[0m\u001b[0moutputs\u001b[0m\u001b[0;34m)\u001b[0m\u001b[0;34m]\u001b[0m\u001b[0;34m\u001b[0m\u001b[0m\n\u001b[1;32m   2677\u001b[0m \u001b[0;34m\u001b[0m\u001b[0m\n",
      "\u001b[0;32m~/anaconda3/envs/use_keras/lib/python3.6/site-packages/tensorflow/python/client/session.py\u001b[0m in \u001b[0;36m__call__\u001b[0;34m(self, *args, **kwargs)\u001b[0m\n\u001b[1;32m   1437\u001b[0m           ret = tf_session.TF_SessionRunCallable(\n\u001b[1;32m   1438\u001b[0m               \u001b[0mself\u001b[0m\u001b[0;34m.\u001b[0m\u001b[0m_session\u001b[0m\u001b[0;34m.\u001b[0m\u001b[0m_session\u001b[0m\u001b[0;34m,\u001b[0m \u001b[0mself\u001b[0m\u001b[0;34m.\u001b[0m\u001b[0m_handle\u001b[0m\u001b[0;34m,\u001b[0m \u001b[0margs\u001b[0m\u001b[0;34m,\u001b[0m \u001b[0mstatus\u001b[0m\u001b[0;34m,\u001b[0m\u001b[0;34m\u001b[0m\u001b[0m\n\u001b[0;32m-> 1439\u001b[0;31m               run_metadata_ptr)\n\u001b[0m\u001b[1;32m   1440\u001b[0m         \u001b[0;32mif\u001b[0m \u001b[0mrun_metadata\u001b[0m\u001b[0;34m:\u001b[0m\u001b[0;34m\u001b[0m\u001b[0m\n\u001b[1;32m   1441\u001b[0m           \u001b[0mproto_data\u001b[0m \u001b[0;34m=\u001b[0m \u001b[0mtf_session\u001b[0m\u001b[0;34m.\u001b[0m\u001b[0mTF_GetBuffer\u001b[0m\u001b[0;34m(\u001b[0m\u001b[0mrun_metadata_ptr\u001b[0m\u001b[0;34m)\u001b[0m\u001b[0;34m\u001b[0m\u001b[0m\n",
      "\u001b[0;31mKeyboardInterrupt\u001b[0m: "
     ]
    }
   ],
   "source": [
    "history = model.fit(x_train, y_train\n",
    "                   , batch_size = batch_size\n",
    "                    , epochs = epochs\n",
    "                    , verbose = 1\n",
    "                    , validation_data=(x_test, y_test))"
   ]
  },
  {
   "cell_type": "code",
   "execution_count": 48,
   "metadata": {},
   "outputs": [],
   "source": [
    "import pandas as pd\n",
    "test = pd.read_csv(\"test.csv\")"
   ]
  },
  {
   "cell_type": "code",
   "execution_count": 49,
   "metadata": {},
   "outputs": [
    {
     "name": "stdout",
     "output_type": "stream",
     "text": [
      "(28000, 784)\n"
     ]
    }
   ],
   "source": [
    "print(test.shape)"
   ]
  },
  {
   "cell_type": "code",
   "execution_count": 50,
   "metadata": {},
   "outputs": [],
   "source": [
    "y_pred = model.predict(test)"
   ]
  },
  {
   "cell_type": "code",
   "execution_count": 51,
   "metadata": {},
   "outputs": [
    {
     "name": "stdout",
     "output_type": "stream",
     "text": [
      "[[0. 0. 1. ... 0. 0. 0.]\n",
      " [1. 0. 0. ... 0. 0. 0.]\n",
      " [0. 0. 0. ... 0. 0. 1.]\n",
      " ...\n",
      " [0. 0. 0. ... 0. 0. 0.]\n",
      " [0. 0. 0. ... 0. 0. 1.]\n",
      " [0. 0. 1. ... 0. 0. 0.]]\n"
     ]
    }
   ],
   "source": [
    "print(y_pred)"
   ]
  },
  {
   "cell_type": "code",
   "execution_count": 52,
   "metadata": {},
   "outputs": [],
   "source": [
    "result= [0]*28000\n",
    "\n",
    "for y, item in enumerate(y_pred):\n",
    "    for x, name in enumerate(item):\n",
    "        if name == 1:\n",
    "            result[y] = x\n",
    "            break"
   ]
  },
  {
   "cell_type": "code",
   "execution_count": 53,
   "metadata": {},
   "outputs": [
    {
     "name": "stdout",
     "output_type": "stream",
     "text": [
      "[2, 0, 9, 9, 3, 7, 0, 3, 0, 3, 5, 7]\n"
     ]
    }
   ],
   "source": [
    "print(result[0:12])"
   ]
  },
  {
   "cell_type": "code",
   "execution_count": 54,
   "metadata": {},
   "outputs": [
    {
     "name": "stdout",
     "output_type": "stream",
     "text": [
      "28000\n"
     ]
    }
   ],
   "source": [
    "print(len(result))\n",
    "submit_list = result"
   ]
  },
  {
   "cell_type": "code",
   "execution_count": 55,
   "metadata": {},
   "outputs": [],
   "source": [
    "import numpy as np\n",
    "imgid = np.array(np.arange(1,28001)).astype(int)\n",
    "result = pd.DataFrame(submit_list, imgid, columns = [\"Label\"])\n",
    "result.index.name = \"ImageId\"\n",
    "result.to_csv(\"digits_result27.csv\")"
   ]
  },
  {
   "cell_type": "code",
   "execution_count": 56,
   "metadata": {},
   "outputs": [
    {
     "name": "stdout",
     "output_type": "stream",
     "text": [
      "         Label\n",
      "ImageId       \n",
      "1            2\n",
      "2            0\n",
      "3            9\n",
      "4            9\n",
      "5            3\n",
      "6            7\n",
      "7            0\n",
      "8            3\n",
      "9            0\n",
      "10           3\n",
      "11           5\n",
      "12           7\n",
      "13           4\n",
      "14           0\n",
      "15           4\n",
      "16           3\n",
      "17           3\n",
      "18           1\n",
      "19           9\n",
      "20           0\n",
      "21           9\n",
      "22           1\n",
      "23           8\n",
      "24           5\n",
      "25           7\n",
      "26           4\n",
      "27           2\n",
      "28           7\n",
      "29           8\n",
      "30           7\n",
      "...        ...\n",
      "27971        5\n",
      "27972        0\n",
      "27973        4\n",
      "27974        8\n",
      "27975        0\n",
      "27976        3\n",
      "27977        6\n",
      "27978        0\n",
      "27979        1\n",
      "27980        9\n",
      "27981        3\n",
      "27982        1\n",
      "27983        8\n",
      "27984        0\n",
      "27985        4\n",
      "27986        5\n",
      "27987        2\n",
      "27988        2\n",
      "27989        9\n",
      "27990        6\n",
      "27991        7\n",
      "27992        6\n",
      "27993        1\n",
      "27994        9\n",
      "27995        7\n",
      "27996        9\n",
      "27997        7\n",
      "27998        3\n",
      "27999        9\n",
      "28000        2\n",
      "\n",
      "[28000 rows x 1 columns]\n"
     ]
    }
   ],
   "source": [
    "print(result)"
   ]
  },
  {
   "cell_type": "code",
   "execution_count": null,
   "metadata": {},
   "outputs": [],
   "source": []
  }
 ],
 "metadata": {
  "kernelspec": {
   "display_name": "Python 3",
   "language": "python",
   "name": "python3"
  },
  "language_info": {
   "codemirror_mode": {
    "name": "ipython",
    "version": 3
   },
   "file_extension": ".py",
   "mimetype": "text/x-python",
   "name": "python",
   "nbconvert_exporter": "python",
   "pygments_lexer": "ipython3",
   "version": "3.6.6"
  }
 },
 "nbformat": 4,
 "nbformat_minor": 2
}
