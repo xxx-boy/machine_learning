{
 "cells": [
  {
   "cell_type": "code",
   "execution_count": 71,
   "metadata": {},
   "outputs": [],
   "source": [
    "#予測精度（0.99828）"
   ]
  },
  {
   "cell_type": "code",
   "execution_count": 72,
   "metadata": {},
   "outputs": [],
   "source": [
    "import keras\n",
    "from keras.datasets import mnist\n",
    "from keras.models import Sequential\n",
    "from keras.layers import Dense, Dropout\n",
    "from keras.optimizers import RMSprop"
   ]
  },
  {
   "cell_type": "code",
   "execution_count": 73,
   "metadata": {},
   "outputs": [],
   "source": [
    "from keras.datasets import mnist\n",
    "(x_train, y_train), (x_test, y_test) = mnist.load_data()"
   ]
  },
  {
   "cell_type": "code",
   "execution_count": 74,
   "metadata": {},
   "outputs": [],
   "source": [
    "#batch_size = 128\n",
    "#epochs = 50\n",
    "num_classes = 10"
   ]
  },
  {
   "cell_type": "code",
   "execution_count": 75,
   "metadata": {},
   "outputs": [],
   "source": [
    "x_train = x_train.reshape(60000, 784)\n",
    "x_test = x_test.reshape(10000, 784)"
   ]
  },
  {
   "cell_type": "code",
   "execution_count": 76,
   "metadata": {},
   "outputs": [],
   "source": [
    "x_train = x_train.astype('float32')\n",
    "x_test = x_test.astype('float32')\n",
    "x_train /= 255\n",
    "x_test /= 255"
   ]
  },
  {
   "cell_type": "code",
   "execution_count": 77,
   "metadata": {},
   "outputs": [],
   "source": [
    "y_train = keras.utils.to_categorical(y_train, num_classes)\n",
    "y_test = keras.utils.to_categorical(y_test, num_classes)"
   ]
  },
  {
   "cell_type": "code",
   "execution_count": 78,
   "metadata": {},
   "outputs": [],
   "source": [
    "activation = \"relu\"\n",
    "out_dim = 1024\n",
    "dropout = 0.2\n",
    "batch_size = 256\n",
    "epochs = 110"
   ]
  },
  {
   "cell_type": "code",
   "execution_count": null,
   "metadata": {},
   "outputs": [],
   "source": [
    "\n",
    "'''\n",
    "予測精度（0.99828）時のパラメータ\n",
    "activation = \"relu\"#\n",
    "out_dim = 1024\n",
    "dropout = 0.2\n",
    "batch_size = 256\n",
    "epochs = 110\n",
    "model  = Sequential()\n",
    "model.add(Dense(1024, activation = 'relu', input_shape = (784,)))\n",
    "model.add(Dropout(dropout))\n",
    "model.add(Dense(out_dim, activation = 'relu'))\n",
    "model.add(Dropout(dropout))\n",
    "model.add(Dense(10, activation = 'softmax'))\n",
    "model.summary()\n",
    "model.compile(loss='categorical_crossentropy', optimizer=RMSprop(lr=0.0009), metrics=['accuracy'])\n",
    "\n",
    "'''"
   ]
  },
  {
   "cell_type": "code",
   "execution_count": 79,
   "metadata": {},
   "outputs": [
    {
     "name": "stdout",
     "output_type": "stream",
     "text": [
      "_________________________________________________________________\n",
      "Layer (type)                 Output Shape              Param #   \n",
      "=================================================================\n",
      "dense_31 (Dense)             (None, 1024)              803840    \n",
      "_________________________________________________________________\n",
      "dropout_21 (Dropout)         (None, 1024)              0         \n",
      "_________________________________________________________________\n",
      "dense_32 (Dense)             (None, 1024)              1049600   \n",
      "_________________________________________________________________\n",
      "dropout_22 (Dropout)         (None, 1024)              0         \n",
      "_________________________________________________________________\n",
      "dense_33 (Dense)             (None, 10)                10250     \n",
      "=================================================================\n",
      "Total params: 1,863,690\n",
      "Trainable params: 1,863,690\n",
      "Non-trainable params: 0\n",
      "_________________________________________________________________\n"
     ]
    }
   ],
   "source": [
    "model  = Sequential()\n",
    "model.add(Dense(1024, activation = 'relu', input_shape = (784,)))\n",
    "model.add(Dropout(dropout))\n",
    "model.add(Dense(1024, activation = 'relu'))\n",
    "model.add(Dropout(dropout))\n",
    "model.add(Dense(10, activation = 'softmax'))\n",
    "model.summary()\n",
    "model.compile(loss='categorical_crossentropy', optimizer=RMSprop(lr=0.0009), metrics=['accuracy'])"
   ]
  },
  {
   "cell_type": "code",
   "execution_count": 80,
   "metadata": {
    "scrolled": false
   },
   "outputs": [
    {
     "name": "stdout",
     "output_type": "stream",
     "text": [
      "Train on 60000 samples, validate on 10000 samples\n",
      "Epoch 1/110\n",
      "60000/60000 [==============================] - 265s 4ms/step - loss: 0.2628 - acc: 0.9188 - val_loss: 0.1520 - val_acc: 0.9515\n",
      "Epoch 2/110\n",
      "60000/60000 [==============================] - 258s 4ms/step - loss: 0.0969 - acc: 0.9704 - val_loss: 0.1009 - val_acc: 0.9677\n",
      "Epoch 3/110\n",
      "60000/60000 [==============================] - 255s 4ms/step - loss: 0.0666 - acc: 0.9793 - val_loss: 0.0827 - val_acc: 0.9743\n",
      "Epoch 4/110\n",
      "60000/60000 [==============================] - 257s 4ms/step - loss: 0.0491 - acc: 0.9845 - val_loss: 0.1333 - val_acc: 0.9623\n",
      "Epoch 5/110\n",
      "60000/60000 [==============================] - 258s 4ms/step - loss: 0.0390 - acc: 0.9882 - val_loss: 0.0635 - val_acc: 0.9819\n",
      "Epoch 6/110\n",
      "60000/60000 [==============================] - 256s 4ms/step - loss: 0.0327 - acc: 0.9899 - val_loss: 0.0759 - val_acc: 0.9801\n",
      "Epoch 7/110\n",
      "60000/60000 [==============================] - 257s 4ms/step - loss: 0.0287 - acc: 0.9906 - val_loss: 0.0739 - val_acc: 0.9820\n",
      "Epoch 8/110\n",
      "60000/60000 [==============================] - 261s 4ms/step - loss: 0.0236 - acc: 0.9929 - val_loss: 0.0981 - val_acc: 0.9774\n",
      "Epoch 9/110\n",
      "60000/60000 [==============================] - 257s 4ms/step - loss: 0.0210 - acc: 0.9933 - val_loss: 0.1072 - val_acc: 0.9787\n",
      "Epoch 10/110\n",
      "60000/60000 [==============================] - 258s 4ms/step - loss: 0.0186 - acc: 0.9941 - val_loss: 0.1046 - val_acc: 0.9795\n",
      "Epoch 11/110\n",
      "60000/60000 [==============================] - 260s 4ms/step - loss: 0.0175 - acc: 0.9945 - val_loss: 0.1008 - val_acc: 0.9814\n",
      "Epoch 12/110\n",
      "60000/60000 [==============================] - 265s 4ms/step - loss: 0.0149 - acc: 0.9952 - val_loss: 0.1091 - val_acc: 0.9805\n",
      "Epoch 13/110\n",
      "60000/60000 [==============================] - 261s 4ms/step - loss: 0.0155 - acc: 0.9955 - val_loss: 0.0908 - val_acc: 0.9827\n",
      "Epoch 14/110\n",
      "60000/60000 [==============================] - 262s 4ms/step - loss: 0.0139 - acc: 0.9959 - val_loss: 0.1111 - val_acc: 0.9825\n",
      "Epoch 15/110\n",
      "60000/60000 [==============================] - 261s 4ms/step - loss: 0.0139 - acc: 0.9959 - val_loss: 0.0976 - val_acc: 0.9838\n",
      "Epoch 16/110\n",
      "60000/60000 [==============================] - 264s 4ms/step - loss: 0.0130 - acc: 0.9960 - val_loss: 0.1034 - val_acc: 0.9832\n",
      "Epoch 17/110\n",
      "60000/60000 [==============================] - 262s 4ms/step - loss: 0.0110 - acc: 0.9970 - val_loss: 0.1194 - val_acc: 0.9801\n",
      "Epoch 18/110\n",
      "60000/60000 [==============================] - 264s 4ms/step - loss: 0.0119 - acc: 0.9969 - val_loss: 0.1223 - val_acc: 0.9817\n",
      "Epoch 19/110\n",
      "60000/60000 [==============================] - 269s 4ms/step - loss: 0.0111 - acc: 0.9969 - val_loss: 0.0979 - val_acc: 0.9834\n",
      "Epoch 20/110\n",
      "60000/60000 [==============================] - 255s 4ms/step - loss: 0.0117 - acc: 0.9969 - val_loss: 0.1010 - val_acc: 0.9842\n",
      "Epoch 21/110\n",
      "60000/60000 [==============================] - 241s 4ms/step - loss: 0.0099 - acc: 0.9971 - val_loss: 0.1121 - val_acc: 0.9838\n",
      "Epoch 22/110\n",
      "60000/60000 [==============================] - 237s 4ms/step - loss: 0.0088 - acc: 0.9974 - val_loss: 0.1071 - val_acc: 0.9835\n",
      "Epoch 23/110\n",
      "60000/60000 [==============================] - 240s 4ms/step - loss: 0.0093 - acc: 0.9974 - val_loss: 0.1092 - val_acc: 0.9833\n",
      "Epoch 24/110\n",
      "60000/60000 [==============================] - 238s 4ms/step - loss: 0.0090 - acc: 0.9976 - val_loss: 0.1142 - val_acc: 0.9844\n",
      "Epoch 25/110\n",
      "60000/60000 [==============================] - 239s 4ms/step - loss: 0.0072 - acc: 0.9979 - val_loss: 0.1423 - val_acc: 0.9816\n",
      "Epoch 26/110\n",
      "60000/60000 [==============================] - 244s 4ms/step - loss: 0.0092 - acc: 0.9977 - val_loss: 0.1166 - val_acc: 0.9847\n",
      "Epoch 27/110\n",
      "60000/60000 [==============================] - 240s 4ms/step - loss: 0.0090 - acc: 0.9975 - val_loss: 0.1217 - val_acc: 0.9851\n",
      "Epoch 28/110\n",
      "60000/60000 [==============================] - 240s 4ms/step - loss: 0.0100 - acc: 0.9973 - val_loss: 0.1080 - val_acc: 0.9863\n",
      "Epoch 29/110\n",
      "60000/60000 [==============================] - 240s 4ms/step - loss: 0.0073 - acc: 0.9982 - val_loss: 0.1258 - val_acc: 0.9836\n",
      "Epoch 30/110\n",
      "60000/60000 [==============================] - 241s 4ms/step - loss: 0.0091 - acc: 0.9979 - val_loss: 0.1179 - val_acc: 0.9858\n",
      "Epoch 31/110\n",
      "60000/60000 [==============================] - 243s 4ms/step - loss: 0.0085 - acc: 0.9979 - val_loss: 0.1326 - val_acc: 0.9840\n",
      "Epoch 32/110\n",
      "60000/60000 [==============================] - 243s 4ms/step - loss: 0.0071 - acc: 0.9981 - val_loss: 0.1131 - val_acc: 0.9846\n",
      "Epoch 33/110\n",
      "60000/60000 [==============================] - 245s 4ms/step - loss: 0.0076 - acc: 0.9983 - val_loss: 0.1188 - val_acc: 0.9858\n",
      "Epoch 34/110\n",
      "60000/60000 [==============================] - 246s 4ms/step - loss: 0.0067 - acc: 0.9981 - val_loss: 0.1239 - val_acc: 0.9847\n",
      "Epoch 35/110\n",
      "60000/60000 [==============================] - 243s 4ms/step - loss: 0.0070 - acc: 0.9981 - val_loss: 0.1382 - val_acc: 0.9837\n",
      "Epoch 36/110\n",
      "60000/60000 [==============================] - 244s 4ms/step - loss: 0.0062 - acc: 0.9984 - val_loss: 0.1297 - val_acc: 0.9848\n",
      "Epoch 37/110\n",
      "60000/60000 [==============================] - 277s 5ms/step - loss: 0.0062 - acc: 0.9985 - val_loss: 0.1316 - val_acc: 0.9856\n",
      "Epoch 38/110\n",
      "60000/60000 [==============================] - 172s 3ms/step - loss: 0.0076 - acc: 0.9983 - val_loss: 0.1326 - val_acc: 0.9830\n",
      "Epoch 39/110\n",
      "60000/60000 [==============================] - 119s 2ms/step - loss: 0.0071 - acc: 0.9984 - val_loss: 0.1427 - val_acc: 0.9837\n",
      "Epoch 40/110\n",
      "60000/60000 [==============================] - 122s 2ms/step - loss: 0.0063 - acc: 0.9986 - val_loss: 0.1168 - val_acc: 0.9852\n",
      "Epoch 41/110\n",
      "60000/60000 [==============================] - 125s 2ms/step - loss: 0.0059 - acc: 0.9987 - val_loss: 0.1274 - val_acc: 0.9852\n",
      "Epoch 42/110\n",
      "60000/60000 [==============================] - 129s 2ms/step - loss: 0.0070 - acc: 0.9984 - val_loss: 0.1353 - val_acc: 0.9842\n",
      "Epoch 43/110\n",
      "60000/60000 [==============================] - 126s 2ms/step - loss: 0.0056 - acc: 0.9988 - val_loss: 0.1344 - val_acc: 0.9857\n",
      "Epoch 44/110\n",
      "60000/60000 [==============================] - 126s 2ms/step - loss: 0.0070 - acc: 0.9984 - val_loss: 0.1108 - val_acc: 0.9861\n",
      "Epoch 45/110\n",
      "60000/60000 [==============================] - 121s 2ms/step - loss: 0.0067 - acc: 0.9984 - val_loss: 0.1360 - val_acc: 0.9857\n",
      "Epoch 46/110\n",
      "60000/60000 [==============================] - 126s 2ms/step - loss: 0.0058 - acc: 0.9987 - val_loss: 0.1326 - val_acc: 0.9850\n",
      "Epoch 47/110\n",
      "60000/60000 [==============================] - 124s 2ms/step - loss: 0.0059 - acc: 0.9987 - val_loss: 0.1302 - val_acc: 0.9854\n",
      "Epoch 48/110\n",
      "60000/60000 [==============================] - 121s 2ms/step - loss: 0.0054 - acc: 0.9988 - val_loss: 0.1363 - val_acc: 0.9855\n",
      "Epoch 49/110\n",
      "60000/60000 [==============================] - 124s 2ms/step - loss: 0.0053 - acc: 0.9986 - val_loss: 0.1372 - val_acc: 0.9844\n",
      "Epoch 50/110\n",
      "60000/60000 [==============================] - 126s 2ms/step - loss: 0.0051 - acc: 0.9988 - val_loss: 0.1314 - val_acc: 0.9852\n",
      "Epoch 51/110\n",
      "60000/60000 [==============================] - 126s 2ms/step - loss: 0.0047 - acc: 0.9990 - val_loss: 0.1376 - val_acc: 0.9859\n",
      "Epoch 52/110\n",
      "60000/60000 [==============================] - 132s 2ms/step - loss: 0.0065 - acc: 0.9987 - val_loss: 0.1328 - val_acc: 0.9853\n",
      "Epoch 53/110\n",
      "60000/60000 [==============================] - 118s 2ms/step - loss: 0.0053 - acc: 0.9988 - val_loss: 0.1363 - val_acc: 0.9856\n",
      "Epoch 54/110\n",
      "60000/60000 [==============================] - 174s 3ms/step - loss: 0.0051 - acc: 0.9987 - val_loss: 0.1401 - val_acc: 0.9861\n",
      "Epoch 55/110\n",
      "60000/60000 [==============================] - 254s 4ms/step - loss: 0.0040 - acc: 0.9990 - val_loss: 0.1467 - val_acc: 0.9847\n",
      "Epoch 56/110\n",
      "60000/60000 [==============================] - 266s 4ms/step - loss: 0.0051 - acc: 0.9989 - val_loss: 0.1477 - val_acc: 0.9845\n",
      "Epoch 57/110\n",
      "60000/60000 [==============================] - 256s 4ms/step - loss: 0.0052 - acc: 0.9989 - val_loss: 0.1402 - val_acc: 0.9848\n",
      "Epoch 58/110\n",
      "60000/60000 [==============================] - 256s 4ms/step - loss: 0.0052 - acc: 0.9990 - val_loss: 0.1431 - val_acc: 0.9841\n",
      "Epoch 59/110\n",
      "60000/60000 [==============================] - 255s 4ms/step - loss: 0.0041 - acc: 0.9992 - val_loss: 0.1341 - val_acc: 0.9855\n",
      "Epoch 60/110\n",
      "60000/60000 [==============================] - 255s 4ms/step - loss: 0.0072 - acc: 0.9987 - val_loss: 0.1480 - val_acc: 0.9836\n",
      "Epoch 61/110\n",
      "60000/60000 [==============================] - 256s 4ms/step - loss: 0.0051 - acc: 0.9988 - val_loss: 0.1490 - val_acc: 0.9845\n",
      "Epoch 62/110\n",
      "60000/60000 [==============================] - 257s 4ms/step - loss: 0.0054 - acc: 0.9990 - val_loss: 0.1646 - val_acc: 0.9840\n",
      "Epoch 63/110\n",
      "60000/60000 [==============================] - 264s 4ms/step - loss: 0.0052 - acc: 0.9990 - val_loss: 0.1459 - val_acc: 0.9848\n",
      "Epoch 64/110\n",
      "60000/60000 [==============================] - 259s 4ms/step - loss: 0.0047 - acc: 0.9991 - val_loss: 0.1369 - val_acc: 0.9861\n",
      "Epoch 65/110\n",
      "60000/60000 [==============================] - 260s 4ms/step - loss: 0.0054 - acc: 0.9987 - val_loss: 0.1325 - val_acc: 0.9867\n",
      "Epoch 66/110\n",
      "60000/60000 [==============================] - 261s 4ms/step - loss: 0.0042 - acc: 0.9990 - val_loss: 0.1505 - val_acc: 0.9850\n",
      "Epoch 67/110\n",
      "60000/60000 [==============================] - 260s 4ms/step - loss: 0.0059 - acc: 0.9989 - val_loss: 0.1526 - val_acc: 0.9846\n",
      "Epoch 68/110\n",
      "60000/60000 [==============================] - 261s 4ms/step - loss: 0.0051 - acc: 0.9989 - val_loss: 0.1449 - val_acc: 0.9850\n",
      "Epoch 69/110\n",
      "60000/60000 [==============================] - 264s 4ms/step - loss: 0.0042 - acc: 0.9990 - val_loss: 0.1483 - val_acc: 0.9853\n",
      "Epoch 70/110\n",
      "60000/60000 [==============================] - 267s 4ms/step - loss: 0.0054 - acc: 0.9991 - val_loss: 0.1526 - val_acc: 0.9855\n",
      "Epoch 71/110\n",
      "60000/60000 [==============================] - 263s 4ms/step - loss: 0.0048 - acc: 0.9992 - val_loss: 0.1477 - val_acc: 0.9845\n",
      "Epoch 72/110\n",
      "60000/60000 [==============================] - 268s 4ms/step - loss: 0.0047 - acc: 0.9990 - val_loss: 0.1495 - val_acc: 0.9850\n",
      "Epoch 73/110\n",
      "60000/60000 [==============================] - 265s 4ms/step - loss: 0.0050 - acc: 0.9991 - val_loss: 0.1321 - val_acc: 0.9865\n",
      "Epoch 74/110\n",
      "60000/60000 [==============================] - 250s 4ms/step - loss: 0.0040 - acc: 0.9992 - val_loss: 0.1371 - val_acc: 0.9861\n",
      "Epoch 75/110\n",
      "60000/60000 [==============================] - 246s 4ms/step - loss: 0.0065 - acc: 0.9989 - val_loss: 0.1518 - val_acc: 0.9845\n",
      "Epoch 76/110\n",
      "60000/60000 [==============================] - 247s 4ms/step - loss: 0.0047 - acc: 0.9990 - val_loss: 0.1362 - val_acc: 0.9853\n",
      "Epoch 77/110\n",
      "60000/60000 [==============================] - 251s 4ms/step - loss: 0.0028 - acc: 0.9994 - val_loss: 0.1655 - val_acc: 0.9844\n",
      "Epoch 78/110\n",
      "60000/60000 [==============================] - 246s 4ms/step - loss: 0.0052 - acc: 0.9991 - val_loss: 0.1584 - val_acc: 0.9840\n",
      "Epoch 79/110\n",
      "60000/60000 [==============================] - 245s 4ms/step - loss: 0.0062 - acc: 0.9990 - val_loss: 0.1290 - val_acc: 0.9865\n",
      "Epoch 80/110\n",
      "60000/60000 [==============================] - 247s 4ms/step - loss: 0.0035 - acc: 0.9993 - val_loss: 0.1596 - val_acc: 0.9849\n",
      "Epoch 81/110\n",
      "60000/60000 [==============================] - 248s 4ms/step - loss: 0.0038 - acc: 0.9992 - val_loss: 0.1556 - val_acc: 0.9850\n",
      "Epoch 82/110\n",
      "60000/60000 [==============================] - 248s 4ms/step - loss: 0.0044 - acc: 0.9993 - val_loss: 0.1384 - val_acc: 0.9853\n",
      "Epoch 83/110\n",
      "60000/60000 [==============================] - 249s 4ms/step - loss: 0.0045 - acc: 0.9989 - val_loss: 0.1519 - val_acc: 0.9851\n",
      "Epoch 84/110\n",
      "60000/60000 [==============================] - 250s 4ms/step - loss: 0.0044 - acc: 0.9992 - val_loss: 0.1690 - val_acc: 0.9847\n",
      "Epoch 85/110\n",
      "60000/60000 [==============================] - 255s 4ms/step - loss: 0.0039 - acc: 0.9991 - val_loss: 0.1530 - val_acc: 0.9856\n",
      "Epoch 86/110\n",
      "60000/60000 [==============================] - 251s 4ms/step - loss: 0.0047 - acc: 0.9991 - val_loss: 0.1473 - val_acc: 0.9855\n",
      "Epoch 87/110\n",
      "60000/60000 [==============================] - 251s 4ms/step - loss: 0.0049 - acc: 0.9992 - val_loss: 0.1409 - val_acc: 0.9871\n",
      "Epoch 88/110\n",
      "60000/60000 [==============================] - 251s 4ms/step - loss: 0.0052 - acc: 0.9990 - val_loss: 0.1474 - val_acc: 0.9862\n",
      "Epoch 89/110\n",
      "60000/60000 [==============================] - 254s 4ms/step - loss: 0.0043 - acc: 0.9992 - val_loss: 0.1517 - val_acc: 0.9856\n",
      "Epoch 90/110\n",
      "60000/60000 [==============================] - 252s 4ms/step - loss: 0.0037 - acc: 0.9992 - val_loss: 0.1511 - val_acc: 0.9856\n",
      "Epoch 91/110\n",
      "60000/60000 [==============================] - 253s 4ms/step - loss: 0.0055 - acc: 0.9990 - val_loss: 0.1430 - val_acc: 0.9858\n",
      "Epoch 92/110\n",
      "60000/60000 [==============================] - 258s 4ms/step - loss: 0.0048 - acc: 0.9992 - val_loss: 0.1498 - val_acc: 0.9860\n",
      "Epoch 93/110\n",
      "60000/60000 [==============================] - 179s 3ms/step - loss: 0.0033 - acc: 0.9993 - val_loss: 0.1566 - val_acc: 0.9855\n",
      "Epoch 94/110\n",
      "60000/60000 [==============================] - 120s 2ms/step - loss: 0.0043 - acc: 0.9993 - val_loss: 0.1422 - val_acc: 0.9860\n",
      "Epoch 95/110\n",
      "60000/60000 [==============================] - 120s 2ms/step - loss: 0.0041 - acc: 0.9992 - val_loss: 0.1701 - val_acc: 0.9850\n",
      "Epoch 96/110\n",
      "60000/60000 [==============================] - 122s 2ms/step - loss: 0.0036 - acc: 0.9993 - val_loss: 0.1616 - val_acc: 0.9854\n",
      "Epoch 97/110\n",
      "60000/60000 [==============================] - 125s 2ms/step - loss: 0.0044 - acc: 0.9993 - val_loss: 0.1469 - val_acc: 0.9853\n",
      "Epoch 98/110\n",
      "60000/60000 [==============================] - 123s 2ms/step - loss: 0.0029 - acc: 0.9994 - val_loss: 0.1512 - val_acc: 0.9863\n",
      "Epoch 99/110\n",
      "60000/60000 [==============================] - 125s 2ms/step - loss: 0.0036 - acc: 0.9993 - val_loss: 0.1475 - val_acc: 0.9860\n",
      "Epoch 100/110\n",
      "60000/60000 [==============================] - 126s 2ms/step - loss: 0.0044 - acc: 0.9992 - val_loss: 0.1563 - val_acc: 0.9861\n",
      "Epoch 101/110\n",
      "60000/60000 [==============================] - 124s 2ms/step - loss: 0.0042 - acc: 0.9992 - val_loss: 0.1676 - val_acc: 0.9854\n",
      "Epoch 102/110\n",
      "60000/60000 [==============================] - 121s 2ms/step - loss: 0.0048 - acc: 0.9990 - val_loss: 0.1508 - val_acc: 0.9850\n",
      "Epoch 103/110\n",
      "60000/60000 [==============================] - 127s 2ms/step - loss: 0.0034 - acc: 0.9994 - val_loss: 0.1436 - val_acc: 0.9867\n",
      "Epoch 104/110\n",
      "60000/60000 [==============================] - 127s 2ms/step - loss: 0.0043 - acc: 0.9992 - val_loss: 0.1506 - val_acc: 0.9850\n",
      "Epoch 105/110\n",
      "60000/60000 [==============================] - 126s 2ms/step - loss: 0.0031 - acc: 0.9994 - val_loss: 0.1595 - val_acc: 0.9854\n",
      "Epoch 106/110\n",
      "60000/60000 [==============================] - 130s 2ms/step - loss: 0.0035 - acc: 0.9994 - val_loss: 0.1557 - val_acc: 0.9851\n",
      "Epoch 107/110\n",
      "60000/60000 [==============================] - 125s 2ms/step - loss: 0.0041 - acc: 0.9993 - val_loss: 0.1590 - val_acc: 0.9855\n",
      "Epoch 108/110\n",
      "60000/60000 [==============================] - 125s 2ms/step - loss: 0.0028 - acc: 0.9995 - val_loss: 0.1525 - val_acc: 0.9850\n",
      "Epoch 109/110\n",
      "60000/60000 [==============================] - 125s 2ms/step - loss: 0.0026 - acc: 0.9995 - val_loss: 0.1587 - val_acc: 0.9855\n",
      "Epoch 110/110\n",
      "60000/60000 [==============================] - 124s 2ms/step - loss: 0.0028 - acc: 0.9995 - val_loss: 0.1575 - val_acc: 0.9845\n"
     ]
    }
   ],
   "source": [
    "history = model.fit(x_train, y_train\n",
    "                   , batch_size = batch_size\n",
    "                    , epochs = epochs\n",
    "                    , verbose = 1\n",
    "                    , validation_data=(x_test, y_test))"
   ]
  },
  {
   "cell_type": "code",
   "execution_count": 81,
   "metadata": {},
   "outputs": [],
   "source": [
    "import pandas as pd\n",
    "test = pd.read_csv(\"test.csv\")"
   ]
  },
  {
   "cell_type": "code",
   "execution_count": 82,
   "metadata": {},
   "outputs": [
    {
     "name": "stdout",
     "output_type": "stream",
     "text": [
      "(28000, 784)\n"
     ]
    }
   ],
   "source": [
    "print(test.shape)"
   ]
  },
  {
   "cell_type": "code",
   "execution_count": 83,
   "metadata": {},
   "outputs": [],
   "source": [
    "y_pred = model.predict(test)"
   ]
  },
  {
   "cell_type": "code",
   "execution_count": 84,
   "metadata": {},
   "outputs": [
    {
     "name": "stdout",
     "output_type": "stream",
     "text": [
      "[[0. 0. 1. ... 0. 0. 0.]\n",
      " [1. 0. 0. ... 0. 0. 0.]\n",
      " [0. 0. 0. ... 0. 0. 1.]\n",
      " ...\n",
      " [0. 0. 0. ... 0. 0. 0.]\n",
      " [0. 0. 0. ... 0. 0. 1.]\n",
      " [0. 0. 1. ... 0. 0. 0.]]\n"
     ]
    }
   ],
   "source": [
    "print(y_pred)"
   ]
  },
  {
   "cell_type": "code",
   "execution_count": 85,
   "metadata": {},
   "outputs": [],
   "source": [
    "result= [0]*28000\n",
    "\n",
    "for y, item in enumerate(y_pred):\n",
    "    for x, name in enumerate(item):\n",
    "        if name == 1:\n",
    "            result[y] = x\n",
    "            break"
   ]
  },
  {
   "cell_type": "code",
   "execution_count": 86,
   "metadata": {},
   "outputs": [
    {
     "name": "stdout",
     "output_type": "stream",
     "text": [
      "[2, 0, 9, 0, 3, 7, 0, 3, 0, 3, 5, 7]\n"
     ]
    }
   ],
   "source": [
    "print(result[0:12])"
   ]
  },
  {
   "cell_type": "code",
   "execution_count": 87,
   "metadata": {},
   "outputs": [
    {
     "name": "stdout",
     "output_type": "stream",
     "text": [
      "28000\n"
     ]
    }
   ],
   "source": [
    "print(len(result))\n",
    "submit_list = result"
   ]
  },
  {
   "cell_type": "code",
   "execution_count": 88,
   "metadata": {},
   "outputs": [],
   "source": [
    "import numpy as np\n",
    "imgid = np.array(np.arange(1,28001)).astype(int)\n",
    "result = pd.DataFrame(submit_list, imgid, columns = [\"Label\"])\n",
    "result.index.name = \"ImageId\"\n",
    "result.to_csv(\"digits_result12.csv\")"
   ]
  },
  {
   "cell_type": "code",
   "execution_count": 89,
   "metadata": {},
   "outputs": [
    {
     "name": "stdout",
     "output_type": "stream",
     "text": [
      "         Label\n",
      "ImageId       \n",
      "1            2\n",
      "2            0\n",
      "3            9\n",
      "4            0\n",
      "5            3\n",
      "6            7\n",
      "7            0\n",
      "8            3\n",
      "9            0\n",
      "10           3\n",
      "11           5\n",
      "12           7\n",
      "13           4\n",
      "14           0\n",
      "15           4\n",
      "16           3\n",
      "17           3\n",
      "18           1\n",
      "19           9\n",
      "20           0\n",
      "21           9\n",
      "22           1\n",
      "23           1\n",
      "24           5\n",
      "25           7\n",
      "26           4\n",
      "27           2\n",
      "28           7\n",
      "29           4\n",
      "30           7\n",
      "...        ...\n",
      "27971        5\n",
      "27972        0\n",
      "27973        4\n",
      "27974        8\n",
      "27975        0\n",
      "27976        3\n",
      "27977        6\n",
      "27978        0\n",
      "27979        1\n",
      "27980        9\n",
      "27981        3\n",
      "27982        1\n",
      "27983        1\n",
      "27984        0\n",
      "27985        4\n",
      "27986        5\n",
      "27987        2\n",
      "27988        2\n",
      "27989        9\n",
      "27990        6\n",
      "27991        7\n",
      "27992        6\n",
      "27993        1\n",
      "27994        9\n",
      "27995        7\n",
      "27996        9\n",
      "27997        7\n",
      "27998        3\n",
      "27999        9\n",
      "28000        2\n",
      "\n",
      "[28000 rows x 1 columns]\n"
     ]
    }
   ],
   "source": [
    "print(result)"
   ]
  },
  {
   "cell_type": "code",
   "execution_count": null,
   "metadata": {},
   "outputs": [],
   "source": []
  }
 ],
 "metadata": {
  "kernelspec": {
   "display_name": "Python 3",
   "language": "python",
   "name": "python3"
  },
  "language_info": {
   "codemirror_mode": {
    "name": "ipython",
    "version": 3
   },
   "file_extension": ".py",
   "mimetype": "text/x-python",
   "name": "python",
   "nbconvert_exporter": "python",
   "pygments_lexer": "ipython3",
   "version": "3.6.6"
  }
 },
 "nbformat": 4,
 "nbformat_minor": 2
}
