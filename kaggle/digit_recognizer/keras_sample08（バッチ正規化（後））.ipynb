{
 "cells": [
  {
   "cell_type": "code",
   "execution_count": 1,
   "metadata": {},
   "outputs": [],
   "source": [
    "#バッチごとに後に正規化"
   ]
  },
  {
   "cell_type": "code",
   "execution_count": 2,
   "metadata": {},
   "outputs": [
    {
     "name": "stderr",
     "output_type": "stream",
     "text": [
      "Using TensorFlow backend.\n"
     ]
    }
   ],
   "source": [
    "import keras\n",
    "from keras.datasets import mnist\n",
    "from keras.models import Sequential\n",
    "from keras.layers import Dense, Dropout, BatchNormalization\n",
    "from keras.optimizers import RMSprop"
   ]
  },
  {
   "cell_type": "code",
   "execution_count": 3,
   "metadata": {},
   "outputs": [],
   "source": [
    "from keras.datasets import mnist\n",
    "(x_train, y_train), (x_test, y_test) = mnist.load_data()"
   ]
  },
  {
   "cell_type": "code",
   "execution_count": 4,
   "metadata": {},
   "outputs": [],
   "source": [
    "#batch_size = 128\n",
    "#epochs = 50\n",
    "num_classes = 10"
   ]
  },
  {
   "cell_type": "code",
   "execution_count": 5,
   "metadata": {},
   "outputs": [],
   "source": [
    "x_train = x_train.reshape(60000, 784)\n",
    "x_test = x_test.reshape(10000, 784)"
   ]
  },
  {
   "cell_type": "code",
   "execution_count": 6,
   "metadata": {},
   "outputs": [],
   "source": [
    "x_train = x_train.astype('float32')\n",
    "x_test = x_test.astype('float32')\n",
    "x_train /= 255\n",
    "x_test /= 255"
   ]
  },
  {
   "cell_type": "code",
   "execution_count": 7,
   "metadata": {},
   "outputs": [],
   "source": [
    "y_train = keras.utils.to_categorical(y_train, num_classes)\n",
    "y_test = keras.utils.to_categorical(y_test, num_classes)"
   ]
  },
  {
   "cell_type": "code",
   "execution_count": 37,
   "metadata": {},
   "outputs": [],
   "source": [
    "activation = \"relu\"\n",
    "out_dim = 256\n",
    "dropout = 0.2\n",
    "batch_size = 128\n",
    "epochs = 115"
   ]
  },
  {
   "cell_type": "code",
   "execution_count": 49,
   "metadata": {},
   "outputs": [
    {
     "name": "stdout",
     "output_type": "stream",
     "text": [
      "_________________________________________________________________\n",
      "Layer (type)                 Output Shape              Param #   \n",
      "=================================================================\n",
      "dense_13 (Dense)             (None, 256)               200960    \n",
      "_________________________________________________________________\n",
      "dropout_9 (Dropout)          (None, 256)               0         \n",
      "_________________________________________________________________\n",
      "batch_normalization_9 (Batch (None, 256)               1024      \n",
      "_________________________________________________________________\n",
      "dense_14 (Dense)             (None, 256)               65792     \n",
      "_________________________________________________________________\n",
      "dropout_10 (Dropout)         (None, 256)               0         \n",
      "_________________________________________________________________\n",
      "dense_15 (Dense)             (None, 10)                2570      \n",
      "=================================================================\n",
      "Total params: 270,346\n",
      "Trainable params: 269,834\n",
      "Non-trainable params: 512\n",
      "_________________________________________________________________\n"
     ]
    }
   ],
   "source": [
    "model  = Sequential()\n",
    "model.add(Dense(256, activation = 'relu', input_shape = (784,)))\n",
    "model.add(Dropout(dropout))\n",
    "model.add(BatchNormalization())\n",
    "model.add(Dense(256, activation = 'relu'))\n",
    "model.add(Dropout(dropout))\n",
    "model.add(Dense(10, activation = 'softmax'))\n",
    "model.summary()\n",
    "model.compile(loss='categorical_crossentropy', optimizer=RMSprop(lr=0.0009), metrics=['accuracy'])"
   ]
  },
  {
   "cell_type": "code",
   "execution_count": 50,
   "metadata": {
    "scrolled": false
   },
   "outputs": [
    {
     "name": "stdout",
     "output_type": "stream",
     "text": [
      "Train on 60000 samples, validate on 10000 samples\n",
      "Epoch 1/115\n",
      "60000/60000 [==============================] - 74s 1ms/step - loss: 0.2536 - acc: 0.9226 - val_loss: 0.1128 - val_acc: 0.9642\n",
      "Epoch 2/115\n",
      "60000/60000 [==============================] - 67s 1ms/step - loss: 0.1228 - acc: 0.9634 - val_loss: 0.0850 - val_acc: 0.9757\n",
      "Epoch 3/115\n",
      "60000/60000 [==============================] - 68s 1ms/step - loss: 0.0946 - acc: 0.9713 - val_loss: 0.0798 - val_acc: 0.9764\n",
      "Epoch 4/115\n",
      "60000/60000 [==============================] - 66s 1ms/step - loss: 0.0795 - acc: 0.9759 - val_loss: 0.0790 - val_acc: 0.9776\n",
      "Epoch 5/115\n",
      "60000/60000 [==============================] - 68s 1ms/step - loss: 0.0711 - acc: 0.9787 - val_loss: 0.0795 - val_acc: 0.9771\n",
      "Epoch 6/115\n",
      "60000/60000 [==============================] - 68s 1ms/step - loss: 0.0617 - acc: 0.9810 - val_loss: 0.0770 - val_acc: 0.9785\n",
      "Epoch 7/115\n",
      "60000/60000 [==============================] - 68s 1ms/step - loss: 0.0562 - acc: 0.9830 - val_loss: 0.0744 - val_acc: 0.9809\n",
      "Epoch 8/115\n",
      "60000/60000 [==============================] - 66s 1ms/step - loss: 0.0541 - acc: 0.9845 - val_loss: 0.0773 - val_acc: 0.9810\n",
      "Epoch 9/115\n",
      "60000/60000 [==============================] - 67s 1ms/step - loss: 0.0537 - acc: 0.9838 - val_loss: 0.0793 - val_acc: 0.9825\n",
      "Epoch 10/115\n",
      "60000/60000 [==============================] - 67s 1ms/step - loss: 0.0477 - acc: 0.9856 - val_loss: 0.0849 - val_acc: 0.9799\n",
      "Epoch 11/115\n",
      "60000/60000 [==============================] - 67s 1ms/step - loss: 0.0451 - acc: 0.9869 - val_loss: 0.0835 - val_acc: 0.9815\n",
      "Epoch 12/115\n",
      "60000/60000 [==============================] - 67s 1ms/step - loss: 0.0439 - acc: 0.9870 - val_loss: 0.0903 - val_acc: 0.9808\n",
      "Epoch 13/115\n",
      "60000/60000 [==============================] - 67s 1ms/step - loss: 0.0410 - acc: 0.9881 - val_loss: 0.0821 - val_acc: 0.9823\n",
      "Epoch 14/115\n",
      "60000/60000 [==============================] - 67s 1ms/step - loss: 0.0411 - acc: 0.9883 - val_loss: 0.0918 - val_acc: 0.9803\n",
      "Epoch 15/115\n",
      "60000/60000 [==============================] - 66s 1ms/step - loss: 0.0391 - acc: 0.9885 - val_loss: 0.0733 - val_acc: 0.9845\n",
      "Epoch 16/115\n",
      "60000/60000 [==============================] - 67s 1ms/step - loss: 0.0378 - acc: 0.9894 - val_loss: 0.0769 - val_acc: 0.9828\n",
      "Epoch 17/115\n",
      "60000/60000 [==============================] - 67s 1ms/step - loss: 0.0377 - acc: 0.9895 - val_loss: 0.0831 - val_acc: 0.9834\n",
      "Epoch 18/115\n",
      "60000/60000 [==============================] - 67s 1ms/step - loss: 0.0362 - acc: 0.9899 - val_loss: 0.0828 - val_acc: 0.9830\n",
      "Epoch 19/115\n",
      "60000/60000 [==============================] - 67s 1ms/step - loss: 0.0329 - acc: 0.9905 - val_loss: 0.0854 - val_acc: 0.9812\n",
      "Epoch 20/115\n",
      "60000/60000 [==============================] - 67s 1ms/step - loss: 0.0346 - acc: 0.9906 - val_loss: 0.0949 - val_acc: 0.9831\n",
      "Epoch 21/115\n",
      "60000/60000 [==============================] - 67s 1ms/step - loss: 0.0343 - acc: 0.9906 - val_loss: 0.0903 - val_acc: 0.9837\n",
      "Epoch 22/115\n",
      "60000/60000 [==============================] - 67s 1ms/step - loss: 0.0350 - acc: 0.9902 - val_loss: 0.0935 - val_acc: 0.9824\n",
      "Epoch 23/115\n",
      "60000/60000 [==============================] - 69s 1ms/step - loss: 0.0305 - acc: 0.9913 - val_loss: 0.1020 - val_acc: 0.9806\n",
      "Epoch 24/115\n",
      "60000/60000 [==============================] - 67s 1ms/step - loss: 0.0306 - acc: 0.9917 - val_loss: 0.0931 - val_acc: 0.9829\n",
      "Epoch 25/115\n",
      "60000/60000 [==============================] - 68s 1ms/step - loss: 0.0339 - acc: 0.9913 - val_loss: 0.0951 - val_acc: 0.9823\n",
      "Epoch 26/115\n",
      "60000/60000 [==============================] - 67s 1ms/step - loss: 0.0331 - acc: 0.9917 - val_loss: 0.0886 - val_acc: 0.9830\n",
      "Epoch 27/115\n",
      "60000/60000 [==============================] - 67s 1ms/step - loss: 0.0279 - acc: 0.9924 - val_loss: 0.0988 - val_acc: 0.9822\n",
      "Epoch 28/115\n",
      "60000/60000 [==============================] - 68s 1ms/step - loss: 0.0303 - acc: 0.9921 - val_loss: 0.1156 - val_acc: 0.9812\n",
      "Epoch 29/115\n",
      "60000/60000 [==============================] - 67s 1ms/step - loss: 0.0313 - acc: 0.9917 - val_loss: 0.0919 - val_acc: 0.9838\n",
      "Epoch 30/115\n",
      "60000/60000 [==============================] - 69s 1ms/step - loss: 0.0293 - acc: 0.9924 - val_loss: 0.0947 - val_acc: 0.9826\n",
      "Epoch 31/115\n",
      "60000/60000 [==============================] - 67s 1ms/step - loss: 0.0269 - acc: 0.9929 - val_loss: 0.1047 - val_acc: 0.9832\n",
      "Epoch 32/115\n",
      "60000/60000 [==============================] - 68s 1ms/step - loss: 0.0271 - acc: 0.9929 - val_loss: 0.0959 - val_acc: 0.9846\n",
      "Epoch 33/115\n",
      "60000/60000 [==============================] - 68s 1ms/step - loss: 0.0274 - acc: 0.9928 - val_loss: 0.1007 - val_acc: 0.9828\n",
      "Epoch 34/115\n",
      "60000/60000 [==============================] - 68s 1ms/step - loss: 0.0316 - acc: 0.9922 - val_loss: 0.0990 - val_acc: 0.9847\n",
      "Epoch 35/115\n",
      "60000/60000 [==============================] - 69s 1ms/step - loss: 0.0290 - acc: 0.9923 - val_loss: 0.0903 - val_acc: 0.9847\n",
      "Epoch 36/115\n",
      "60000/60000 [==============================] - 69s 1ms/step - loss: 0.0275 - acc: 0.9929 - val_loss: 0.1071 - val_acc: 0.9834\n",
      "Epoch 37/115\n",
      "60000/60000 [==============================] - 68s 1ms/step - loss: 0.0286 - acc: 0.9933 - val_loss: 0.1028 - val_acc: 0.9842\n",
      "Epoch 38/115\n",
      "60000/60000 [==============================] - 68s 1ms/step - loss: 0.0295 - acc: 0.9926 - val_loss: 0.1048 - val_acc: 0.9822\n",
      "Epoch 39/115\n",
      "60000/60000 [==============================] - 68s 1ms/step - loss: 0.0282 - acc: 0.9932 - val_loss: 0.1022 - val_acc: 0.9834\n",
      "Epoch 40/115\n",
      "60000/60000 [==============================] - 68s 1ms/step - loss: 0.0301 - acc: 0.9924 - val_loss: 0.1044 - val_acc: 0.9839\n",
      "Epoch 41/115\n",
      "60000/60000 [==============================] - 68s 1ms/step - loss: 0.0261 - acc: 0.9934 - val_loss: 0.1062 - val_acc: 0.9822\n",
      "Epoch 42/115\n",
      "60000/60000 [==============================] - 68s 1ms/step - loss: 0.0266 - acc: 0.9934 - val_loss: 0.1075 - val_acc: 0.9833\n",
      "Epoch 43/115\n",
      "60000/60000 [==============================] - 68s 1ms/step - loss: 0.0292 - acc: 0.9925 - val_loss: 0.0987 - val_acc: 0.9843\n",
      "Epoch 44/115\n",
      "60000/60000 [==============================] - 68s 1ms/step - loss: 0.0270 - acc: 0.9933 - val_loss: 0.1073 - val_acc: 0.9841\n",
      "Epoch 45/115\n",
      "60000/60000 [==============================] - 68s 1ms/step - loss: 0.0248 - acc: 0.9935 - val_loss: 0.0983 - val_acc: 0.9848\n",
      "Epoch 46/115\n",
      "60000/60000 [==============================] - 68s 1ms/step - loss: 0.0244 - acc: 0.9934 - val_loss: 0.1018 - val_acc: 0.9841\n",
      "Epoch 47/115\n",
      "60000/60000 [==============================] - 69s 1ms/step - loss: 0.0264 - acc: 0.9937 - val_loss: 0.1002 - val_acc: 0.9848\n",
      "Epoch 48/115\n",
      "60000/60000 [==============================] - 69s 1ms/step - loss: 0.0259 - acc: 0.9939 - val_loss: 0.1066 - val_acc: 0.9836\n",
      "Epoch 49/115\n",
      "60000/60000 [==============================] - 69s 1ms/step - loss: 0.0253 - acc: 0.9938 - val_loss: 0.1123 - val_acc: 0.9834\n",
      "Epoch 50/115\n",
      "60000/60000 [==============================] - 68s 1ms/step - loss: 0.0261 - acc: 0.9936 - val_loss: 0.1140 - val_acc: 0.9831\n",
      "Epoch 51/115\n",
      "60000/60000 [==============================] - 68s 1ms/step - loss: 0.0262 - acc: 0.9938 - val_loss: 0.1104 - val_acc: 0.9829\n",
      "Epoch 52/115\n",
      "60000/60000 [==============================] - 68s 1ms/step - loss: 0.0267 - acc: 0.9935 - val_loss: 0.1180 - val_acc: 0.9811\n",
      "Epoch 53/115\n",
      "60000/60000 [==============================] - 68s 1ms/step - loss: 0.0271 - acc: 0.9937 - val_loss: 0.1042 - val_acc: 0.9843\n",
      "Epoch 54/115\n",
      "60000/60000 [==============================] - 68s 1ms/step - loss: 0.0244 - acc: 0.9939 - val_loss: 0.1017 - val_acc: 0.9836\n",
      "Epoch 55/115\n",
      "60000/60000 [==============================] - 68s 1ms/step - loss: 0.0268 - acc: 0.9938 - val_loss: 0.1094 - val_acc: 0.9834\n",
      "Epoch 56/115\n",
      "60000/60000 [==============================] - 68s 1ms/step - loss: 0.0253 - acc: 0.9940 - val_loss: 0.1192 - val_acc: 0.9830\n",
      "Epoch 57/115\n",
      "60000/60000 [==============================] - 69s 1ms/step - loss: 0.0252 - acc: 0.9944 - val_loss: 0.1135 - val_acc: 0.9830\n",
      "Epoch 58/115\n",
      "60000/60000 [==============================] - 69s 1ms/step - loss: 0.0255 - acc: 0.9939 - val_loss: 0.1162 - val_acc: 0.9826\n",
      "Epoch 59/115\n"
     ]
    },
    {
     "name": "stdout",
     "output_type": "stream",
     "text": [
      "60000/60000 [==============================] - 65s 1ms/step - loss: 0.0266 - acc: 0.9941 - val_loss: 0.1201 - val_acc: 0.9826\n",
      "Epoch 60/115\n",
      "60000/60000 [==============================] - 66s 1ms/step - loss: 0.0244 - acc: 0.9942 - val_loss: 0.1132 - val_acc: 0.9827\n",
      "Epoch 61/115\n",
      "60000/60000 [==============================] - 90s 1ms/step - loss: 0.0267 - acc: 0.9934 - val_loss: 0.1153 - val_acc: 0.9834\n",
      "Epoch 62/115\n",
      "60000/60000 [==============================] - 65s 1ms/step - loss: 0.0251 - acc: 0.9942 - val_loss: 0.1141 - val_acc: 0.9843\n",
      "Epoch 63/115\n",
      "60000/60000 [==============================] - 65s 1ms/step - loss: 0.0270 - acc: 0.9937 - val_loss: 0.1092 - val_acc: 0.9840\n",
      "Epoch 64/115\n",
      "60000/60000 [==============================] - 65s 1ms/step - loss: 0.0234 - acc: 0.9944 - val_loss: 0.1198 - val_acc: 0.9839\n",
      "Epoch 65/115\n",
      "60000/60000 [==============================] - 65s 1ms/step - loss: 0.0274 - acc: 0.9941 - val_loss: 0.1093 - val_acc: 0.9843\n",
      "Epoch 66/115\n",
      "60000/60000 [==============================] - 65s 1ms/step - loss: 0.0241 - acc: 0.9942 - val_loss: 0.1108 - val_acc: 0.9845\n",
      "Epoch 67/115\n",
      "60000/60000 [==============================] - 65s 1ms/step - loss: 0.0259 - acc: 0.9941 - val_loss: 0.1194 - val_acc: 0.9843\n",
      "Epoch 68/115\n",
      "60000/60000 [==============================] - 65s 1ms/step - loss: 0.0264 - acc: 0.9938 - val_loss: 0.1208 - val_acc: 0.9846\n",
      "Epoch 69/115\n",
      "60000/60000 [==============================] - 65s 1ms/step - loss: 0.0249 - acc: 0.9942 - val_loss: 0.1185 - val_acc: 0.9837\n",
      "Epoch 70/115\n",
      "60000/60000 [==============================] - 65s 1ms/step - loss: 0.0247 - acc: 0.9942 - val_loss: 0.1152 - val_acc: 0.9833\n",
      "Epoch 71/115\n",
      "60000/60000 [==============================] - 65s 1ms/step - loss: 0.0221 - acc: 0.9949 - val_loss: 0.1178 - val_acc: 0.9837\n",
      "Epoch 72/115\n",
      "60000/60000 [==============================] - 68s 1ms/step - loss: 0.0232 - acc: 0.9946 - val_loss: 0.1173 - val_acc: 0.9840\n",
      "Epoch 73/115\n",
      "60000/60000 [==============================] - 67s 1ms/step - loss: 0.0272 - acc: 0.9941 - val_loss: 0.1213 - val_acc: 0.9834\n",
      "Epoch 74/115\n",
      "60000/60000 [==============================] - 66s 1ms/step - loss: 0.0240 - acc: 0.9947 - val_loss: 0.1274 - val_acc: 0.9841\n",
      "Epoch 75/115\n",
      "60000/60000 [==============================] - 66s 1ms/step - loss: 0.0265 - acc: 0.9942 - val_loss: 0.1225 - val_acc: 0.9836\n",
      "Epoch 76/115\n",
      "60000/60000 [==============================] - 66s 1ms/step - loss: 0.0229 - acc: 0.9949 - val_loss: 0.1114 - val_acc: 0.9856\n",
      "Epoch 77/115\n",
      "60000/60000 [==============================] - 66s 1ms/step - loss: 0.0263 - acc: 0.9945 - val_loss: 0.1257 - val_acc: 0.9844\n",
      "Epoch 78/115\n",
      "60000/60000 [==============================] - 66s 1ms/step - loss: 0.0235 - acc: 0.9949 - val_loss: 0.1185 - val_acc: 0.9843\n",
      "Epoch 79/115\n",
      "60000/60000 [==============================] - 66s 1ms/step - loss: 0.0224 - acc: 0.9950 - val_loss: 0.1238 - val_acc: 0.9849\n",
      "Epoch 80/115\n",
      "60000/60000 [==============================] - 66s 1ms/step - loss: 0.0223 - acc: 0.9948 - val_loss: 0.1236 - val_acc: 0.9848\n",
      "Epoch 81/115\n",
      "60000/60000 [==============================] - 66s 1ms/step - loss: 0.0242 - acc: 0.9944 - val_loss: 0.1267 - val_acc: 0.9847\n",
      "Epoch 82/115\n",
      "60000/60000 [==============================] - 66s 1ms/step - loss: 0.0260 - acc: 0.9947 - val_loss: 0.1308 - val_acc: 0.9843\n",
      "Epoch 83/115\n",
      "60000/60000 [==============================] - 65s 1ms/step - loss: 0.0273 - acc: 0.9944 - val_loss: 0.1395 - val_acc: 0.9830\n",
      "Epoch 84/115\n",
      "60000/60000 [==============================] - 67s 1ms/step - loss: 0.0232 - acc: 0.9945 - val_loss: 0.1353 - val_acc: 0.9828\n",
      "Epoch 85/115\n",
      "60000/60000 [==============================] - 66s 1ms/step - loss: 0.0241 - acc: 0.9949 - val_loss: 0.1373 - val_acc: 0.9833\n",
      "Epoch 86/115\n",
      "60000/60000 [==============================] - 66s 1ms/step - loss: 0.0217 - acc: 0.9953 - val_loss: 0.1389 - val_acc: 0.9839\n",
      "Epoch 87/115\n",
      "60000/60000 [==============================] - 66s 1ms/step - loss: 0.0229 - acc: 0.9948 - val_loss: 0.1261 - val_acc: 0.9840\n",
      "Epoch 88/115\n",
      "60000/60000 [==============================] - 66s 1ms/step - loss: 0.0237 - acc: 0.9948 - val_loss: 0.1329 - val_acc: 0.9841\n",
      "Epoch 89/115\n",
      "60000/60000 [==============================] - 66s 1ms/step - loss: 0.0274 - acc: 0.9943 - val_loss: 0.1311 - val_acc: 0.9839\n",
      "Epoch 90/115\n",
      "60000/60000 [==============================] - 66s 1ms/step - loss: 0.0253 - acc: 0.9948 - val_loss: 0.1320 - val_acc: 0.9845\n",
      "Epoch 91/115\n",
      "60000/60000 [==============================] - 66s 1ms/step - loss: 0.0274 - acc: 0.9940 - val_loss: 0.1211 - val_acc: 0.9838\n",
      "Epoch 92/115\n",
      "60000/60000 [==============================] - 66s 1ms/step - loss: 0.0257 - acc: 0.9946 - val_loss: 0.1338 - val_acc: 0.9832\n",
      "Epoch 93/115\n",
      "60000/60000 [==============================] - 67s 1ms/step - loss: 0.0227 - acc: 0.9951 - val_loss: 0.1284 - val_acc: 0.9841\n",
      "Epoch 94/115\n",
      "60000/60000 [==============================] - 68s 1ms/step - loss: 0.0236 - acc: 0.9951 - val_loss: 0.1355 - val_acc: 0.9823\n",
      "Epoch 95/115\n",
      "60000/60000 [==============================] - 67s 1ms/step - loss: 0.0236 - acc: 0.9948 - val_loss: 0.1262 - val_acc: 0.9846\n",
      "Epoch 96/115\n",
      "60000/60000 [==============================] - 66s 1ms/step - loss: 0.0250 - acc: 0.9948 - val_loss: 0.1298 - val_acc: 0.9833\n",
      "Epoch 97/115\n",
      "60000/60000 [==============================] - 66s 1ms/step - loss: 0.0227 - acc: 0.9953 - val_loss: 0.1226 - val_acc: 0.9846\n",
      "Epoch 98/115\n",
      "60000/60000 [==============================] - 66s 1ms/step - loss: 0.0223 - acc: 0.9954 - val_loss: 0.1290 - val_acc: 0.9843\n",
      "Epoch 99/115\n",
      "60000/60000 [==============================] - 66s 1ms/step - loss: 0.0259 - acc: 0.9947 - val_loss: 0.1210 - val_acc: 0.9835\n",
      "Epoch 100/115\n",
      "60000/60000 [==============================] - 67s 1ms/step - loss: 0.0264 - acc: 0.9947 - val_loss: 0.1379 - val_acc: 0.9829\n",
      "Epoch 101/115\n",
      "60000/60000 [==============================] - 67s 1ms/step - loss: 0.0215 - acc: 0.9954 - val_loss: 0.1421 - val_acc: 0.9829\n",
      "Epoch 102/115\n",
      "60000/60000 [==============================] - 67s 1ms/step - loss: 0.0291 - acc: 0.9944 - val_loss: 0.1289 - val_acc: 0.9832\n",
      "Epoch 103/115\n",
      "60000/60000 [==============================] - 67s 1ms/step - loss: 0.0253 - acc: 0.9950 - val_loss: 0.1354 - val_acc: 0.9834\n",
      "Epoch 104/115\n",
      "60000/60000 [==============================] - 67s 1ms/step - loss: 0.0223 - acc: 0.9951 - val_loss: 0.1291 - val_acc: 0.9839\n",
      "Epoch 105/115\n",
      "60000/60000 [==============================] - 67s 1ms/step - loss: 0.0227 - acc: 0.9951 - val_loss: 0.1314 - val_acc: 0.9837\n",
      "Epoch 106/115\n",
      "60000/60000 [==============================] - 67s 1ms/step - loss: 0.0226 - acc: 0.9954 - val_loss: 0.1494 - val_acc: 0.9834\n",
      "Epoch 107/115\n",
      "60000/60000 [==============================] - 67s 1ms/step - loss: 0.0264 - acc: 0.9948 - val_loss: 0.1296 - val_acc: 0.9838\n",
      "Epoch 108/115\n",
      "60000/60000 [==============================] - 67s 1ms/step - loss: 0.0229 - acc: 0.9954 - val_loss: 0.1496 - val_acc: 0.9830\n",
      "Epoch 109/115\n",
      "60000/60000 [==============================] - 67s 1ms/step - loss: 0.0246 - acc: 0.9954 - val_loss: 0.1449 - val_acc: 0.9829\n",
      "Epoch 110/115\n",
      "60000/60000 [==============================] - 67s 1ms/step - loss: 0.0231 - acc: 0.9953 - val_loss: 0.1429 - val_acc: 0.9837\n",
      "Epoch 111/115\n",
      "60000/60000 [==============================] - 68s 1ms/step - loss: 0.0231 - acc: 0.9952 - val_loss: 0.1274 - val_acc: 0.9849\n",
      "Epoch 112/115\n",
      "60000/60000 [==============================] - 69s 1ms/step - loss: 0.0207 - acc: 0.9960 - val_loss: 0.1279 - val_acc: 0.9841\n",
      "Epoch 113/115\n",
      "60000/60000 [==============================] - 68s 1ms/step - loss: 0.0204 - acc: 0.9956 - val_loss: 0.1363 - val_acc: 0.9837\n",
      "Epoch 114/115\n",
      "60000/60000 [==============================] - 68s 1ms/step - loss: 0.0243 - acc: 0.9953 - val_loss: 0.1262 - val_acc: 0.9843\n",
      "Epoch 115/115\n",
      "60000/60000 [==============================] - 56s 939us/step - loss: 0.0242 - acc: 0.9956 - val_loss: 0.1279 - val_acc: 0.9830\n"
     ]
    }
   ],
   "source": [
    "history = model.fit(x_train, y_train\n",
    "                   , batch_size = batch_size\n",
    "                    , epochs = epochs\n",
    "                    , verbose = 1\n",
    "                    , validation_data=(x_test, y_test))"
   ]
  },
  {
   "cell_type": "code",
   "execution_count": 52,
   "metadata": {},
   "outputs": [],
   "source": [
    "import pandas as pd\n",
    "test = pd.read_csv(\"test.csv\")"
   ]
  },
  {
   "cell_type": "code",
   "execution_count": 53,
   "metadata": {},
   "outputs": [
    {
     "name": "stdout",
     "output_type": "stream",
     "text": [
      "(28000, 784)\n"
     ]
    }
   ],
   "source": [
    "print(test.shape)"
   ]
  },
  {
   "cell_type": "code",
   "execution_count": 54,
   "metadata": {},
   "outputs": [],
   "source": [
    "y_pred = model.predict(test)"
   ]
  },
  {
   "cell_type": "code",
   "execution_count": 55,
   "metadata": {},
   "outputs": [
    {
     "name": "stdout",
     "output_type": "stream",
     "text": [
      "[[0. 0. 1. ... 0. 0. 0.]\n",
      " [1. 0. 0. ... 0. 0. 0.]\n",
      " [0. 0. 0. ... 0. 0. 1.]\n",
      " ...\n",
      " [0. 0. 0. ... 0. 0. 0.]\n",
      " [0. 0. 0. ... 0. 0. 1.]\n",
      " [0. 0. 1. ... 0. 0. 0.]]\n"
     ]
    }
   ],
   "source": [
    "print(y_pred)"
   ]
  },
  {
   "cell_type": "code",
   "execution_count": 56,
   "metadata": {},
   "outputs": [],
   "source": [
    "result= [0]*28000\n",
    "\n",
    "for y, item in enumerate(y_pred):\n",
    "    for x, name in enumerate(item):\n",
    "        if name == 1:\n",
    "            result[y] = x\n",
    "            break"
   ]
  },
  {
   "cell_type": "code",
   "execution_count": 57,
   "metadata": {},
   "outputs": [
    {
     "name": "stdout",
     "output_type": "stream",
     "text": [
      "[2, 0, 9, 2, 3, 2, 0, 3, 0, 3, 5, 2]\n"
     ]
    }
   ],
   "source": [
    "print(result[0:12])"
   ]
  },
  {
   "cell_type": "code",
   "execution_count": 58,
   "metadata": {},
   "outputs": [
    {
     "name": "stdout",
     "output_type": "stream",
     "text": [
      "28000\n"
     ]
    }
   ],
   "source": [
    "print(len(result))\n",
    "submit_list = result"
   ]
  },
  {
   "cell_type": "code",
   "execution_count": 59,
   "metadata": {},
   "outputs": [],
   "source": [
    "import numpy as np\n",
    "imgid = np.array(np.arange(1,28001)).astype(int)\n",
    "result = pd.DataFrame(submit_list, imgid, columns = [\"Label\"])\n",
    "result.index.name = \"ImageId\"\n",
    "result.to_csv(\"digits_result26.csv\")"
   ]
  },
  {
   "cell_type": "code",
   "execution_count": 60,
   "metadata": {},
   "outputs": [
    {
     "name": "stdout",
     "output_type": "stream",
     "text": [
      "         Label\n",
      "ImageId       \n",
      "1            2\n",
      "2            0\n",
      "3            9\n",
      "4            2\n",
      "5            3\n",
      "6            2\n",
      "7            0\n",
      "8            3\n",
      "9            0\n",
      "10           3\n",
      "11           5\n",
      "12           2\n",
      "13           4\n",
      "14           0\n",
      "15           4\n",
      "16           3\n",
      "17           3\n",
      "18           1\n",
      "19           9\n",
      "20           0\n",
      "21           9\n",
      "22           1\n",
      "23           2\n",
      "24           5\n",
      "25           7\n",
      "26           4\n",
      "27           2\n",
      "28           7\n",
      "29           8\n",
      "30           7\n",
      "...        ...\n",
      "27971        5\n",
      "27972        0\n",
      "27973        4\n",
      "27974        8\n",
      "27975        0\n",
      "27976        3\n",
      "27977        6\n",
      "27978        2\n",
      "27979        1\n",
      "27980        9\n",
      "27981        3\n",
      "27982        2\n",
      "27983        2\n",
      "27984        0\n",
      "27985        4\n",
      "27986        5\n",
      "27987        2\n",
      "27988        2\n",
      "27989        9\n",
      "27990        6\n",
      "27991        7\n",
      "27992        6\n",
      "27993        2\n",
      "27994        9\n",
      "27995        7\n",
      "27996        9\n",
      "27997        7\n",
      "27998        3\n",
      "27999        9\n",
      "28000        2\n",
      "\n",
      "[28000 rows x 1 columns]\n"
     ]
    }
   ],
   "source": [
    "print(result)"
   ]
  },
  {
   "cell_type": "code",
   "execution_count": null,
   "metadata": {},
   "outputs": [],
   "source": []
  }
 ],
 "metadata": {
  "kernelspec": {
   "display_name": "Python 3",
   "language": "python",
   "name": "python3"
  },
  "language_info": {
   "codemirror_mode": {
    "name": "ipython",
    "version": 3
   },
   "file_extension": ".py",
   "mimetype": "text/x-python",
   "name": "python",
   "nbconvert_exporter": "python",
   "pygments_lexer": "ipython3",
   "version": "3.6.6"
  }
 },
 "nbformat": 4,
 "nbformat_minor": 2
}
