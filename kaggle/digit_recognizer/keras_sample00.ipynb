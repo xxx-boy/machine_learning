{
 "cells": [
  {
   "cell_type": "code",
   "execution_count": 1,
   "metadata": {},
   "outputs": [
    {
     "name": "stderr",
     "output_type": "stream",
     "text": [
      "Using TensorFlow backend.\n"
     ]
    }
   ],
   "source": [
    "import keras\n",
    "from keras.datasets import mnist\n",
    "from keras.models import Sequential\n",
    "from keras.layers import Dense, Dropout\n",
    "from keras.optimizers import RMSprop"
   ]
  },
  {
   "cell_type": "code",
   "execution_count": 2,
   "metadata": {},
   "outputs": [],
   "source": [
    "from keras.datasets import mnist\n",
    "(x_train, y_train), (x_test, y_test) = mnist.load_data()"
   ]
  },
  {
   "cell_type": "code",
   "execution_count": 3,
   "metadata": {},
   "outputs": [],
   "source": [
    "batch_size = 128\n",
    "epochs = 20\n",
    "num_classes = 10"
   ]
  },
  {
   "cell_type": "code",
   "execution_count": 4,
   "metadata": {},
   "outputs": [],
   "source": [
    "x_train = x_train.reshape(60000, 784)\n",
    "x_test = x_test.reshape(10000, 784)"
   ]
  },
  {
   "cell_type": "code",
   "execution_count": 5,
   "metadata": {},
   "outputs": [],
   "source": [
    "x_train = x_train.astype('float32')\n",
    "x_test = x_test.astype('float32')\n",
    "x_train /= 255\n",
    "x_test /= 255"
   ]
  },
  {
   "cell_type": "code",
   "execution_count": 6,
   "metadata": {},
   "outputs": [],
   "source": [
    "y_train = keras.utils.to_categorical(y_train, num_classes)\n",
    "y_test = keras.utils.to_categorical(y_test, num_classes)"
   ]
  },
  {
   "cell_type": "code",
   "execution_count": 7,
   "metadata": {},
   "outputs": [],
   "source": [
    "model  = Sequential()"
   ]
  },
  {
   "cell_type": "code",
   "execution_count": 8,
   "metadata": {},
   "outputs": [
    {
     "name": "stdout",
     "output_type": "stream",
     "text": [
      "WARNING:tensorflow:From /home/xxx_boy/anaconda3/envs/use_keras/lib/python3.6/site-packages/tensorflow/python/framework/op_def_library.py:263: colocate_with (from tensorflow.python.framework.ops) is deprecated and will be removed in a future version.\n",
      "Instructions for updating:\n",
      "Colocations handled automatically by placer.\n",
      "WARNING:tensorflow:From /home/xxx_boy/anaconda3/envs/use_keras/lib/python3.6/site-packages/keras/backend/tensorflow_backend.py:3445: calling dropout (from tensorflow.python.ops.nn_ops) with keep_prob is deprecated and will be removed in a future version.\n",
      "Instructions for updating:\n",
      "Please use `rate` instead of `keep_prob`. Rate should be set to `rate = 1 - keep_prob`.\n",
      "_________________________________________________________________\n",
      "Layer (type)                 Output Shape              Param #   \n",
      "=================================================================\n",
      "dense_1 (Dense)              (None, 512)               401920    \n",
      "_________________________________________________________________\n",
      "dropout_1 (Dropout)          (None, 512)               0         \n",
      "_________________________________________________________________\n",
      "dense_2 (Dense)              (None, 512)               262656    \n",
      "_________________________________________________________________\n",
      "dropout_2 (Dropout)          (None, 512)               0         \n",
      "_________________________________________________________________\n",
      "dense_3 (Dense)              (None, 10)                5130      \n",
      "=================================================================\n",
      "Total params: 669,706\n",
      "Trainable params: 669,706\n",
      "Non-trainable params: 0\n",
      "_________________________________________________________________\n"
     ]
    }
   ],
   "source": [
    "model.add(Dense(512, activation = 'relu', input_shape = (784,)))\n",
    "model.add(Dropout(0.2))\n",
    "model.add(Dense(512, activation = 'relu'))\n",
    "model.add(Dropout(0.2))\n",
    "model.add(Dense(10, activation='softmax'))\n",
    "\n",
    "model.summary()\n",
    "\n",
    "model.compile(loss='categorical_crossentropy', optimizer=RMSprop(), metrics=['accuracy'])"
   ]
  },
  {
   "cell_type": "code",
   "execution_count": 9,
   "metadata": {
    "scrolled": true
   },
   "outputs": [
    {
     "name": "stdout",
     "output_type": "stream",
     "text": [
      "WARNING:tensorflow:From /home/xxx_boy/anaconda3/envs/use_keras/lib/python3.6/site-packages/tensorflow/python/ops/math_ops.py:3066: to_int32 (from tensorflow.python.ops.math_ops) is deprecated and will be removed in a future version.\n",
      "Instructions for updating:\n",
      "Use tf.cast instead.\n",
      "Train on 60000 samples, validate on 10000 samples\n",
      "Epoch 1/20\n",
      "60000/60000 [==============================] - 83s 1ms/step - loss: 0.2448 - acc: 0.9233 - val_loss: 0.1299 - val_acc: 0.9590\n",
      "Epoch 2/20\n",
      "60000/60000 [==============================] - 71s 1ms/step - loss: 0.1031 - acc: 0.9683 - val_loss: 0.0928 - val_acc: 0.9739\n",
      "Epoch 3/20\n",
      "60000/60000 [==============================] - 70s 1ms/step - loss: 0.0743 - acc: 0.9772 - val_loss: 0.0916 - val_acc: 0.9724\n",
      "Epoch 4/20\n",
      "60000/60000 [==============================] - 70s 1ms/step - loss: 0.0604 - acc: 0.9822 - val_loss: 0.0789 - val_acc: 0.9801\n",
      "Epoch 5/20\n",
      "60000/60000 [==============================] - 67s 1ms/step - loss: 0.0511 - acc: 0.9844 - val_loss: 0.0886 - val_acc: 0.9784\n",
      "Epoch 6/20\n",
      "60000/60000 [==============================] - 58s 968us/step - loss: 0.0425 - acc: 0.9872 - val_loss: 0.0792 - val_acc: 0.9819\n",
      "Epoch 7/20\n",
      "60000/60000 [==============================] - 58s 964us/step - loss: 0.0386 - acc: 0.9887 - val_loss: 0.0798 - val_acc: 0.9822\n",
      "Epoch 8/20\n",
      "60000/60000 [==============================] - 58s 968us/step - loss: 0.0334 - acc: 0.9903 - val_loss: 0.0775 - val_acc: 0.9840\n",
      "Epoch 9/20\n",
      "60000/60000 [==============================] - 58s 966us/step - loss: 0.0317 - acc: 0.9909 - val_loss: 0.0836 - val_acc: 0.9835\n",
      "Epoch 10/20\n",
      "60000/60000 [==============================] - 57s 954us/step - loss: 0.0297 - acc: 0.9915 - val_loss: 0.0962 - val_acc: 0.9798\n",
      "Epoch 11/20\n",
      "60000/60000 [==============================] - 57s 955us/step - loss: 0.0279 - acc: 0.9923 - val_loss: 0.0911 - val_acc: 0.9812\n",
      "Epoch 12/20\n",
      "60000/60000 [==============================] - 57s 953us/step - loss: 0.0236 - acc: 0.9934 - val_loss: 0.0859 - val_acc: 0.9836\n",
      "Epoch 13/20\n",
      "60000/60000 [==============================] - 58s 965us/step - loss: 0.0231 - acc: 0.9935 - val_loss: 0.1020 - val_acc: 0.9830\n",
      "Epoch 14/20\n",
      "60000/60000 [==============================] - 57s 957us/step - loss: 0.0206 - acc: 0.9945 - val_loss: 0.1088 - val_acc: 0.9818\n",
      "Epoch 15/20\n",
      "60000/60000 [==============================] - 58s 960us/step - loss: 0.0224 - acc: 0.9940 - val_loss: 0.1024 - val_acc: 0.9835\n",
      "Epoch 16/20\n",
      "60000/60000 [==============================] - 57s 956us/step - loss: 0.0200 - acc: 0.9949 - val_loss: 0.1093 - val_acc: 0.9826\n",
      "Epoch 17/20\n",
      "60000/60000 [==============================] - 65s 1ms/step - loss: 0.0199 - acc: 0.9950 - val_loss: 0.1083 - val_acc: 0.9832\n",
      "Epoch 18/20\n",
      "60000/60000 [==============================] - 58s 966us/step - loss: 0.0196 - acc: 0.9948 - val_loss: 0.1154 - val_acc: 0.9839\n",
      "Epoch 19/20\n",
      "60000/60000 [==============================] - 58s 972us/step - loss: 0.0192 - acc: 0.9951 - val_loss: 0.1179 - val_acc: 0.9837\n",
      "Epoch 20/20\n",
      "60000/60000 [==============================] - 58s 963us/step - loss: 0.0161 - acc: 0.9957 - val_loss: 0.1140 - val_acc: 0.9814\n"
     ]
    }
   ],
   "source": [
    "history = model.fit(x_train, y_train\n",
    "                    , batch_size = batch_size\n",
    "                    , epochs = epochs\n",
    "                    , verbose = 1\n",
    "                    , validation_data=(x_test, y_test))"
   ]
  },
  {
   "cell_type": "code",
   "execution_count": 10,
   "metadata": {},
   "outputs": [],
   "source": [
    "import pandas as pd\n",
    "test = pd.read_csv(\"test.csv\")"
   ]
  },
  {
   "cell_type": "code",
   "execution_count": 11,
   "metadata": {},
   "outputs": [
    {
     "name": "stdout",
     "output_type": "stream",
     "text": [
      "(28000, 784)\n"
     ]
    }
   ],
   "source": [
    "print(test.shape)"
   ]
  },
  {
   "cell_type": "code",
   "execution_count": 12,
   "metadata": {},
   "outputs": [],
   "source": [
    "y_pred = model.predict(test)"
   ]
  },
  {
   "cell_type": "code",
   "execution_count": 13,
   "metadata": {},
   "outputs": [
    {
     "name": "stdout",
     "output_type": "stream",
     "text": [
      "[[0. 0. 1. ... 0. 0. 0.]\n",
      " [1. 0. 0. ... 0. 0. 0.]\n",
      " [0. 0. 0. ... 0. 0. 1.]\n",
      " ...\n",
      " [0. 0. 0. ... 0. 0. 0.]\n",
      " [0. 0. 0. ... 0. 0. 1.]\n",
      " [0. 0. 1. ... 0. 0. 0.]]\n"
     ]
    }
   ],
   "source": [
    "print(y_pred)"
   ]
  },
  {
   "cell_type": "code",
   "execution_count": 14,
   "metadata": {},
   "outputs": [],
   "source": [
    "result= [0]*28000\n",
    "\n",
    "for y, item in enumerate(y_pred):\n",
    "    for x, name in enumerate(item):\n",
    "        if name == 1:\n",
    "            result[y] = x\n",
    "            break"
   ]
  },
  {
   "cell_type": "code",
   "execution_count": 15,
   "metadata": {},
   "outputs": [
    {
     "name": "stdout",
     "output_type": "stream",
     "text": [
      "[2, 0, 9, 0, 3, 7, 0, 3, 0, 3, 5, 7]\n"
     ]
    }
   ],
   "source": [
    "print(result[0:12])"
   ]
  },
  {
   "cell_type": "code",
   "execution_count": 16,
   "metadata": {},
   "outputs": [
    {
     "name": "stdout",
     "output_type": "stream",
     "text": [
      "28000\n"
     ]
    }
   ],
   "source": [
    "print(len(result))\n",
    "submit_list = result"
   ]
  },
  {
   "cell_type": "code",
   "execution_count": 17,
   "metadata": {},
   "outputs": [],
   "source": [
    "import numpy as np\n",
    "imgid = np.array(np.arange(1,28001)).astype(int)\n",
    "result = pd.DataFrame(submit_list, imgid, columns = [\"Label\"])\n",
    "result.index.name = \"ImageId\"\n",
    "result.to_csv(\"digits_result07.csv\")"
   ]
  },
  {
   "cell_type": "code",
   "execution_count": 18,
   "metadata": {},
   "outputs": [
    {
     "name": "stdout",
     "output_type": "stream",
     "text": [
      "         Label\n",
      "ImageId       \n",
      "1            2\n",
      "2            0\n",
      "3            9\n",
      "4            0\n",
      "5            3\n",
      "6            7\n",
      "7            0\n",
      "8            3\n",
      "9            0\n",
      "10           3\n",
      "11           5\n",
      "12           7\n",
      "13           4\n",
      "14           0\n",
      "15           4\n",
      "16           3\n",
      "17           3\n",
      "18           1\n",
      "19           9\n",
      "20           0\n",
      "21           9\n",
      "22           1\n",
      "23           1\n",
      "24           5\n",
      "25           7\n",
      "26           4\n",
      "27           2\n",
      "28           7\n",
      "29           4\n",
      "30           7\n",
      "...        ...\n",
      "27971        5\n",
      "27972        0\n",
      "27973        4\n",
      "27974        8\n",
      "27975        0\n",
      "27976        3\n",
      "27977        6\n",
      "27978        0\n",
      "27979        1\n",
      "27980        9\n",
      "27981        3\n",
      "27982        1\n",
      "27983        1\n",
      "27984        0\n",
      "27985        4\n",
      "27986        5\n",
      "27987        2\n",
      "27988        2\n",
      "27989        9\n",
      "27990        6\n",
      "27991        7\n",
      "27992        6\n",
      "27993        1\n",
      "27994        9\n",
      "27995        7\n",
      "27996        9\n",
      "27997        7\n",
      "27998        3\n",
      "27999        9\n",
      "28000        2\n",
      "\n",
      "[28000 rows x 1 columns]\n"
     ]
    }
   ],
   "source": [
    "print(result)"
   ]
  },
  {
   "cell_type": "code",
   "execution_count": null,
   "metadata": {},
   "outputs": [],
   "source": []
  },
  {
   "cell_type": "code",
   "execution_count": null,
   "metadata": {},
   "outputs": [],
   "source": []
  }
 ],
 "metadata": {
  "kernelspec": {
   "display_name": "Python 3",
   "language": "python",
   "name": "python3"
  },
  "language_info": {
   "codemirror_mode": {
    "name": "ipython",
    "version": 3
   },
   "file_extension": ".py",
   "mimetype": "text/x-python",
   "name": "python",
   "nbconvert_exporter": "python",
   "pygments_lexer": "ipython3",
   "version": "3.6.6"
  }
 },
 "nbformat": 4,
 "nbformat_minor": 2
}
