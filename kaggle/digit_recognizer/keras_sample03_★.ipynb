{
 "cells": [
  {
   "cell_type": "code",
   "execution_count": 70,
   "metadata": {},
   "outputs": [],
   "source": [
    "import keras\n",
    "from keras.datasets import mnist\n",
    "from keras.models import Sequential\n",
    "from keras.layers import Dense, Dropout\n",
    "from keras.optimizers import RMSprop"
   ]
  },
  {
   "cell_type": "code",
   "execution_count": 71,
   "metadata": {},
   "outputs": [],
   "source": [
    "from keras.datasets import mnist\n",
    "(x_train, y_train), (x_test, y_test) = mnist.load_data()"
   ]
  },
  {
   "cell_type": "code",
   "execution_count": 72,
   "metadata": {},
   "outputs": [],
   "source": [
    "batch_size = 128\n",
    "epochs = 50\n",
    "num_classes = 10"
   ]
  },
  {
   "cell_type": "code",
   "execution_count": 73,
   "metadata": {},
   "outputs": [],
   "source": [
    "x_train = x_train.reshape(60000, 784)\n",
    "x_test = x_test.reshape(10000, 784)"
   ]
  },
  {
   "cell_type": "code",
   "execution_count": 74,
   "metadata": {},
   "outputs": [],
   "source": [
    "x_train = x_train.astype('float32')\n",
    "x_test = x_test.astype('float32')\n",
    "x_train /= 255\n",
    "x_test /= 255"
   ]
  },
  {
   "cell_type": "code",
   "execution_count": 75,
   "metadata": {},
   "outputs": [],
   "source": [
    "y_train = keras.utils.to_categorical(y_train, num_classes)\n",
    "y_test = keras.utils.to_categorical(y_test, num_classes)"
   ]
  },
  {
   "cell_type": "code",
   "execution_count": 76,
   "metadata": {},
   "outputs": [],
   "source": [
    "model  = Sequential()"
   ]
  },
  {
   "cell_type": "code",
   "execution_count": 77,
   "metadata": {},
   "outputs": [
    {
     "name": "stdout",
     "output_type": "stream",
     "text": [
      "_________________________________________________________________\n",
      "Layer (type)                 Output Shape              Param #   \n",
      "=================================================================\n",
      "dense_31 (Dense)             (None, 512)               401920    \n",
      "_________________________________________________________________\n",
      "dropout_21 (Dropout)         (None, 512)               0         \n",
      "_________________________________________________________________\n",
      "dense_32 (Dense)             (None, 512)               262656    \n",
      "_________________________________________________________________\n",
      "dropout_22 (Dropout)         (None, 512)               0         \n",
      "_________________________________________________________________\n",
      "dense_33 (Dense)             (None, 10)                5130      \n",
      "=================================================================\n",
      "Total params: 669,706\n",
      "Trainable params: 669,706\n",
      "Non-trainable params: 0\n",
      "_________________________________________________________________\n"
     ]
    }
   ],
   "source": [
    "model.add(Dense(512, activation = 'relu', input_shape = (784,)))\n",
    "model.add(Dropout(0.2))\n",
    "model.add(Dense(512, activation = 'relu'))\n",
    "model.add(Dropout(0.2))\n",
    "model.add(Dense(10, activation='softmax'))\n",
    "\n",
    "model.summary()\n",
    "\n",
    "model.compile(loss='categorical_crossentropy', optimizer=RMSprop(lr=0.0009), metrics=['accuracy'])"
   ]
  },
  {
   "cell_type": "code",
   "execution_count": 78,
   "metadata": {
    "scrolled": false
   },
   "outputs": [
    {
     "name": "stdout",
     "output_type": "stream",
     "text": [
      "Train on 60000 samples, validate on 10000 samples\n",
      "Epoch 1/50\n",
      "60000/60000 [==============================] - 76s 1ms/step - loss: 0.2516 - acc: 0.9233 - val_loss: 0.1109 - val_acc: 0.9663\n",
      "Epoch 2/50\n",
      "60000/60000 [==============================] - 69s 1ms/step - loss: 0.1024 - acc: 0.9686 - val_loss: 0.0803 - val_acc: 0.9759\n",
      "Epoch 3/50\n",
      "60000/60000 [==============================] - 69s 1ms/step - loss: 0.0740 - acc: 0.9776 - val_loss: 0.0842 - val_acc: 0.9763\n",
      "Epoch 4/50\n",
      "60000/60000 [==============================] - 66s 1ms/step - loss: 0.0596 - acc: 0.9823 - val_loss: 0.0760 - val_acc: 0.9790\n",
      "Epoch 5/50\n",
      "60000/60000 [==============================] - 67s 1ms/step - loss: 0.0516 - acc: 0.9848 - val_loss: 0.0710 - val_acc: 0.9811\n",
      "Epoch 6/50\n",
      "60000/60000 [==============================] - 69s 1ms/step - loss: 0.0417 - acc: 0.9873 - val_loss: 0.0749 - val_acc: 0.9815\n",
      "Epoch 7/50\n",
      "60000/60000 [==============================] - 59s 980us/step - loss: 0.0355 - acc: 0.9889 - val_loss: 0.0840 - val_acc: 0.9802\n",
      "Epoch 8/50\n",
      "60000/60000 [==============================] - 59s 976us/step - loss: 0.0334 - acc: 0.9899 - val_loss: 0.0819 - val_acc: 0.9803\n",
      "Epoch 9/50\n",
      "60000/60000 [==============================] - 59s 987us/step - loss: 0.0300 - acc: 0.9912 - val_loss: 0.0867 - val_acc: 0.9816\n",
      "Epoch 10/50\n",
      "60000/60000 [==============================] - 59s 988us/step - loss: 0.0246 - acc: 0.9925 - val_loss: 0.0948 - val_acc: 0.9820\n",
      "Epoch 11/50\n",
      "60000/60000 [==============================] - 59s 991us/step - loss: 0.0262 - acc: 0.9924 - val_loss: 0.0856 - val_acc: 0.9826\n",
      "Epoch 12/50\n",
      "60000/60000 [==============================] - 59s 980us/step - loss: 0.0231 - acc: 0.9935 - val_loss: 0.0964 - val_acc: 0.9823\n",
      "Epoch 13/50\n",
      "60000/60000 [==============================] - 59s 989us/step - loss: 0.0209 - acc: 0.9940 - val_loss: 0.0920 - val_acc: 0.9825\n",
      "Epoch 14/50\n",
      "60000/60000 [==============================] - 59s 990us/step - loss: 0.0202 - acc: 0.9939 - val_loss: 0.1004 - val_acc: 0.9827\n",
      "Epoch 15/50\n",
      "60000/60000 [==============================] - 59s 989us/step - loss: 0.0188 - acc: 0.9944 - val_loss: 0.0922 - val_acc: 0.9843\n",
      "Epoch 16/50\n",
      "60000/60000 [==============================] - 59s 989us/step - loss: 0.0186 - acc: 0.9947 - val_loss: 0.0994 - val_acc: 0.9833\n",
      "Epoch 17/50\n",
      "60000/60000 [==============================] - 60s 998us/step - loss: 0.0174 - acc: 0.9949 - val_loss: 0.0929 - val_acc: 0.9852\n",
      "Epoch 18/50\n",
      "60000/60000 [==============================] - 60s 997us/step - loss: 0.0145 - acc: 0.9957 - val_loss: 0.0969 - val_acc: 0.9832\n",
      "Epoch 19/50\n",
      "60000/60000 [==============================] - 60s 998us/step - loss: 0.0156 - acc: 0.9959 - val_loss: 0.1093 - val_acc: 0.9832\n",
      "Epoch 20/50\n",
      "60000/60000 [==============================] - 59s 990us/step - loss: 0.0157 - acc: 0.9956 - val_loss: 0.1028 - val_acc: 0.9848\n",
      "Epoch 21/50\n",
      "60000/60000 [==============================] - 60s 1ms/step - loss: 0.0145 - acc: 0.9962 - val_loss: 0.1188 - val_acc: 0.9817\n",
      "Epoch 22/50\n",
      "60000/60000 [==============================] - 60s 1ms/step - loss: 0.0157 - acc: 0.9959 - val_loss: 0.1004 - val_acc: 0.9842\n",
      "Epoch 23/50\n",
      "60000/60000 [==============================] - 61s 1ms/step - loss: 0.0124 - acc: 0.9964 - val_loss: 0.1022 - val_acc: 0.9849\n",
      "Epoch 24/50\n",
      "60000/60000 [==============================] - 61s 1ms/step - loss: 0.0143 - acc: 0.9961 - val_loss: 0.1187 - val_acc: 0.9827\n",
      "Epoch 25/50\n",
      "60000/60000 [==============================] - 61s 1ms/step - loss: 0.0134 - acc: 0.9964 - val_loss: 0.1079 - val_acc: 0.9846\n",
      "Epoch 26/50\n",
      "60000/60000 [==============================] - 61s 1ms/step - loss: 0.0118 - acc: 0.9969 - val_loss: 0.1180 - val_acc: 0.9828\n",
      "Epoch 27/50\n",
      "60000/60000 [==============================] - 61s 1ms/step - loss: 0.0124 - acc: 0.9969 - val_loss: 0.1133 - val_acc: 0.9851\n",
      "Epoch 28/50\n",
      "60000/60000 [==============================] - 60s 1ms/step - loss: 0.0105 - acc: 0.9974 - val_loss: 0.1218 - val_acc: 0.9845\n",
      "Epoch 29/50\n",
      "60000/60000 [==============================] - 61s 1ms/step - loss: 0.0114 - acc: 0.9970 - val_loss: 0.1245 - val_acc: 0.9830\n",
      "Epoch 30/50\n",
      "60000/60000 [==============================] - 62s 1ms/step - loss: 0.0111 - acc: 0.9973 - val_loss: 0.1191 - val_acc: 0.9839\n",
      "Epoch 31/50\n",
      "60000/60000 [==============================] - 61s 1ms/step - loss: 0.0124 - acc: 0.9971 - val_loss: 0.1103 - val_acc: 0.9848\n",
      "Epoch 32/50\n",
      "60000/60000 [==============================] - 61s 1ms/step - loss: 0.0122 - acc: 0.9974 - val_loss: 0.1329 - val_acc: 0.9838\n",
      "Epoch 33/50\n",
      "60000/60000 [==============================] - 64s 1ms/step - loss: 0.0135 - acc: 0.9970 - val_loss: 0.1250 - val_acc: 0.9847\n",
      "Epoch 34/50\n",
      "60000/60000 [==============================] - 62s 1ms/step - loss: 0.0119 - acc: 0.9971 - val_loss: 0.1234 - val_acc: 0.9849\n",
      "Epoch 35/50\n",
      "60000/60000 [==============================] - 62s 1ms/step - loss: 0.0127 - acc: 0.9971 - val_loss: 0.1284 - val_acc: 0.9838\n",
      "Epoch 36/50\n",
      "60000/60000 [==============================] - 62s 1ms/step - loss: 0.0109 - acc: 0.9973 - val_loss: 0.1356 - val_acc: 0.9846\n",
      "Epoch 37/50\n",
      "60000/60000 [==============================] - 61s 1ms/step - loss: 0.0090 - acc: 0.9981 - val_loss: 0.1217 - val_acc: 0.9859\n",
      "Epoch 38/50\n",
      "60000/60000 [==============================] - 61s 1ms/step - loss: 0.0106 - acc: 0.9975 - val_loss: 0.1221 - val_acc: 0.9861\n",
      "Epoch 39/50\n",
      "60000/60000 [==============================] - 61s 1ms/step - loss: 0.0109 - acc: 0.9975 - val_loss: 0.1276 - val_acc: 0.9849\n",
      "Epoch 40/50\n",
      "60000/60000 [==============================] - 62s 1ms/step - loss: 0.0094 - acc: 0.9979 - val_loss: 0.1331 - val_acc: 0.9845\n",
      "Epoch 41/50\n",
      "60000/60000 [==============================] - 61s 1ms/step - loss: 0.0101 - acc: 0.9978 - val_loss: 0.1403 - val_acc: 0.9839\n",
      "Epoch 42/50\n",
      "60000/60000 [==============================] - 61s 1ms/step - loss: 0.0105 - acc: 0.9978 - val_loss: 0.1313 - val_acc: 0.9848\n",
      "Epoch 43/50\n",
      "60000/60000 [==============================] - 61s 1ms/step - loss: 0.0109 - acc: 0.9975 - val_loss: 0.1294 - val_acc: 0.9833\n",
      "Epoch 44/50\n",
      "60000/60000 [==============================] - 62s 1ms/step - loss: 0.0100 - acc: 0.9979 - val_loss: 0.1295 - val_acc: 0.9854\n",
      "Epoch 45/50\n",
      "60000/60000 [==============================] - 61s 1ms/step - loss: 0.0106 - acc: 0.9978 - val_loss: 0.1279 - val_acc: 0.9834\n",
      "Epoch 46/50\n",
      "60000/60000 [==============================] - 62s 1ms/step - loss: 0.0090 - acc: 0.9979 - val_loss: 0.1273 - val_acc: 0.9852\n",
      "Epoch 47/50\n",
      "60000/60000 [==============================] - 62s 1ms/step - loss: 0.0100 - acc: 0.9979 - val_loss: 0.1263 - val_acc: 0.9852\n",
      "Epoch 48/50\n",
      "60000/60000 [==============================] - 62s 1ms/step - loss: 0.0085 - acc: 0.9980 - val_loss: 0.1334 - val_acc: 0.9840\n",
      "Epoch 49/50\n",
      "60000/60000 [==============================] - 62s 1ms/step - loss: 0.0103 - acc: 0.9977 - val_loss: 0.1286 - val_acc: 0.9859\n",
      "Epoch 50/50\n",
      "60000/60000 [==============================] - 62s 1ms/step - loss: 0.0077 - acc: 0.9982 - val_loss: 0.1338 - val_acc: 0.9842\n"
     ]
    }
   ],
   "source": [
    "history = model.fit(x_train, y_train\n",
    "                    , batch_size = batch_size\n",
    "                    , epochs = epochs\n",
    "                    , verbose = 1\n",
    "                    , validation_data=(x_test, y_test))"
   ]
  },
  {
   "cell_type": "code",
   "execution_count": 90,
   "metadata": {},
   "outputs": [],
   "source": [
    "import pandas as pd\n",
    "test = pd.read_csv(\"test.csv\")"
   ]
  },
  {
   "cell_type": "code",
   "execution_count": 91,
   "metadata": {},
   "outputs": [
    {
     "name": "stdout",
     "output_type": "stream",
     "text": [
      "(28000, 784)\n"
     ]
    }
   ],
   "source": [
    "print(test.shape)"
   ]
  },
  {
   "cell_type": "code",
   "execution_count": 92,
   "metadata": {},
   "outputs": [],
   "source": [
    "y_pred = model.predict(test)"
   ]
  },
  {
   "cell_type": "code",
   "execution_count": 93,
   "metadata": {},
   "outputs": [
    {
     "name": "stdout",
     "output_type": "stream",
     "text": [
      "[[0. 0. 1. ... 0. 0. 0.]\n",
      " [1. 0. 0. ... 0. 0. 0.]\n",
      " [0. 0. 0. ... 0. 0. 1.]\n",
      " ...\n",
      " [0. 0. 0. ... 0. 0. 0.]\n",
      " [0. 0. 0. ... 0. 0. 1.]\n",
      " [0. 0. 1. ... 0. 0. 0.]]\n"
     ]
    }
   ],
   "source": [
    "print(y_pred)"
   ]
  },
  {
   "cell_type": "code",
   "execution_count": 94,
   "metadata": {},
   "outputs": [],
   "source": [
    "result= [0]*28000\n",
    "\n",
    "for y, item in enumerate(y_pred):\n",
    "    for x, name in enumerate(item):\n",
    "        if name == 1:\n",
    "            result[y] = x\n",
    "            break"
   ]
  },
  {
   "cell_type": "code",
   "execution_count": 95,
   "metadata": {},
   "outputs": [
    {
     "name": "stdout",
     "output_type": "stream",
     "text": [
      "[2, 0, 9, 0, 3, 7, 0, 3, 0, 3, 5, 7]\n"
     ]
    }
   ],
   "source": [
    "print(result[0:12])"
   ]
  },
  {
   "cell_type": "code",
   "execution_count": 96,
   "metadata": {},
   "outputs": [
    {
     "name": "stdout",
     "output_type": "stream",
     "text": [
      "28000\n"
     ]
    }
   ],
   "source": [
    "print(len(result))\n",
    "submit_list = result"
   ]
  },
  {
   "cell_type": "code",
   "execution_count": 97,
   "metadata": {},
   "outputs": [],
   "source": [
    "import numpy as np\n",
    "imgid = np.array(np.arange(1,28001)).astype(int)\n",
    "result = pd.DataFrame(submit_list, imgid, columns = [\"Label\"])\n",
    "result.index.name = \"ImageId\"\n",
    "result.to_csv(\"digits_result10.csv\")"
   ]
  },
  {
   "cell_type": "code",
   "execution_count": 98,
   "metadata": {},
   "outputs": [
    {
     "name": "stdout",
     "output_type": "stream",
     "text": [
      "         Label\n",
      "ImageId       \n",
      "1            2\n",
      "2            0\n",
      "3            9\n",
      "4            0\n",
      "5            3\n",
      "6            7\n",
      "7            0\n",
      "8            3\n",
      "9            0\n",
      "10           3\n",
      "11           5\n",
      "12           7\n",
      "13           4\n",
      "14           0\n",
      "15           4\n",
      "16           3\n",
      "17           3\n",
      "18           1\n",
      "19           9\n",
      "20           0\n",
      "21           9\n",
      "22           1\n",
      "23           1\n",
      "24           5\n",
      "25           7\n",
      "26           4\n",
      "27           2\n",
      "28           7\n",
      "29           4\n",
      "30           7\n",
      "...        ...\n",
      "27971        5\n",
      "27972        0\n",
      "27973        4\n",
      "27974        8\n",
      "27975        0\n",
      "27976        3\n",
      "27977        6\n",
      "27978        0\n",
      "27979        1\n",
      "27980        9\n",
      "27981        3\n",
      "27982        1\n",
      "27983        1\n",
      "27984        0\n",
      "27985        4\n",
      "27986        5\n",
      "27987        2\n",
      "27988        2\n",
      "27989        9\n",
      "27990        6\n",
      "27991        7\n",
      "27992        6\n",
      "27993        1\n",
      "27994        9\n",
      "27995        7\n",
      "27996        9\n",
      "27997        7\n",
      "27998        3\n",
      "27999        9\n",
      "28000        2\n",
      "\n",
      "[28000 rows x 1 columns]\n"
     ]
    }
   ],
   "source": [
    "print(result)"
   ]
  },
  {
   "cell_type": "code",
   "execution_count": null,
   "metadata": {},
   "outputs": [],
   "source": []
  },
  {
   "cell_type": "code",
   "execution_count": null,
   "metadata": {},
   "outputs": [],
   "source": []
  }
 ],
 "metadata": {
  "kernelspec": {
   "display_name": "Python 3",
   "language": "python",
   "name": "python3"
  },
  "language_info": {
   "codemirror_mode": {
    "name": "ipython",
    "version": 3
   },
   "file_extension": ".py",
   "mimetype": "text/x-python",
   "name": "python",
   "nbconvert_exporter": "python",
   "pygments_lexer": "ipython3",
   "version": "3.6.6"
  }
 },
 "nbformat": 4,
 "nbformat_minor": 2
}
