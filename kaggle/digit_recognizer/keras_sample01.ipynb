{
 "cells": [
  {
   "cell_type": "code",
   "execution_count": 58,
   "metadata": {},
   "outputs": [],
   "source": [
    "import keras\n",
    "from keras.datasets import mnist\n",
    "from keras.models import Sequential\n",
    "from keras.layers import Dense, Dropout\n",
    "from keras.optimizers import RMSprop"
   ]
  },
  {
   "cell_type": "code",
   "execution_count": 59,
   "metadata": {},
   "outputs": [],
   "source": [
    "from keras.datasets import mnist\n",
    "(x_train, y_train), (x_test, y_test) = mnist.load_data()"
   ]
  },
  {
   "cell_type": "code",
   "execution_count": 60,
   "metadata": {},
   "outputs": [],
   "source": [
    "batch_size = 128\n",
    "epochs = 40\n",
    "num_classes = 10"
   ]
  },
  {
   "cell_type": "code",
   "execution_count": 61,
   "metadata": {},
   "outputs": [],
   "source": [
    "x_train = x_train.reshape(60000, 784)\n",
    "x_test = x_test.reshape(10000, 784)"
   ]
  },
  {
   "cell_type": "code",
   "execution_count": 62,
   "metadata": {},
   "outputs": [],
   "source": [
    "x_train = x_train.astype('float32')\n",
    "x_test = x_test.astype('float32')\n",
    "x_train /= 255\n",
    "x_test /= 255"
   ]
  },
  {
   "cell_type": "code",
   "execution_count": 63,
   "metadata": {},
   "outputs": [],
   "source": [
    "y_train = keras.utils.to_categorical(y_train, num_classes)\n",
    "y_test = keras.utils.to_categorical(y_test, num_classes)"
   ]
  },
  {
   "cell_type": "code",
   "execution_count": 67,
   "metadata": {},
   "outputs": [],
   "source": [
    "model  = Sequential()"
   ]
  },
  {
   "cell_type": "code",
   "execution_count": 68,
   "metadata": {},
   "outputs": [
    {
     "name": "stdout",
     "output_type": "stream",
     "text": [
      "_________________________________________________________________\n",
      "Layer (type)                 Output Shape              Param #   \n",
      "=================================================================\n",
      "dense_41 (Dense)             (None, 512)               401920    \n",
      "_________________________________________________________________\n",
      "dropout_33 (Dropout)         (None, 512)               0         \n",
      "_________________________________________________________________\n",
      "dense_42 (Dense)             (None, 512)               262656    \n",
      "_________________________________________________________________\n",
      "dropout_34 (Dropout)         (None, 512)               0         \n",
      "_________________________________________________________________\n",
      "dense_43 (Dense)             (None, 512)               262656    \n",
      "_________________________________________________________________\n",
      "dropout_35 (Dropout)         (None, 512)               0         \n",
      "_________________________________________________________________\n",
      "dense_44 (Dense)             (None, 10)                5130      \n",
      "=================================================================\n",
      "Total params: 932,362\n",
      "Trainable params: 932,362\n",
      "Non-trainable params: 0\n",
      "_________________________________________________________________\n"
     ]
    }
   ],
   "source": [
    "model.add(Dense(512, activation = 'relu', input_shape = (784,)))\n",
    "model.add(Dropout(0.2))\n",
    "model.add(Dense(512, activation = 'relu'))\n",
    "model.add(Dropout(0.2))\n",
    "model.add(Dense(512, activation = 'relu'))\n",
    "model.add(Dropout(0.2))\n",
    "model.add(Dense(10, activation='softmax'))\n",
    "\n",
    "model.summary()\n",
    "\n",
    "model.compile(loss='categorical_crossentropy', optimizer=RMSprop(), metrics=['accuracy'])"
   ]
  },
  {
   "cell_type": "code",
   "execution_count": 69,
   "metadata": {
    "scrolled": true
   },
   "outputs": [
    {
     "name": "stdout",
     "output_type": "stream",
     "text": [
      "Train on 60000 samples, validate on 10000 samples\n",
      "Epoch 1/40\n",
      "60000/60000 [==============================] - 105s 2ms/step - loss: 0.2696 - acc: 0.9158 - val_loss: 0.1105 - val_acc: 0.9682\n",
      "Epoch 2/40\n",
      "60000/60000 [==============================] - 94s 2ms/step - loss: 0.1142 - acc: 0.9660 - val_loss: 0.0964 - val_acc: 0.9714\n",
      "Epoch 3/40\n",
      "60000/60000 [==============================] - 94s 2ms/step - loss: 0.0882 - acc: 0.9743 - val_loss: 0.0796 - val_acc: 0.9782\n",
      "Epoch 4/40\n",
      "60000/60000 [==============================] - 83s 1ms/step - loss: 0.0757 - acc: 0.9786 - val_loss: 0.0818 - val_acc: 0.9769\n",
      "Epoch 5/40\n",
      "60000/60000 [==============================] - 77s 1ms/step - loss: 0.0684 - acc: 0.9814 - val_loss: 0.0815 - val_acc: 0.9812\n",
      "Epoch 6/40\n",
      "60000/60000 [==============================] - 77s 1ms/step - loss: 0.0590 - acc: 0.9839 - val_loss: 0.0983 - val_acc: 0.9803\n",
      "Epoch 7/40\n",
      "60000/60000 [==============================] - 77s 1ms/step - loss: 0.0585 - acc: 0.9848 - val_loss: 0.1003 - val_acc: 0.9800\n",
      "Epoch 8/40\n",
      "60000/60000 [==============================] - 76s 1ms/step - loss: 0.0581 - acc: 0.9858 - val_loss: 0.0948 - val_acc: 0.9805\n",
      "Epoch 9/40\n",
      "60000/60000 [==============================] - 77s 1ms/step - loss: 0.0542 - acc: 0.9871 - val_loss: 0.1006 - val_acc: 0.9808\n",
      "Epoch 10/40\n",
      "60000/60000 [==============================] - 77s 1ms/step - loss: 0.0562 - acc: 0.9871 - val_loss: 0.0998 - val_acc: 0.9828\n",
      "Epoch 11/40\n",
      "60000/60000 [==============================] - 77s 1ms/step - loss: 0.0518 - acc: 0.9878 - val_loss: 0.1055 - val_acc: 0.9801\n",
      "Epoch 12/40\n",
      "60000/60000 [==============================] - 77s 1ms/step - loss: 0.0520 - acc: 0.9889 - val_loss: 0.1237 - val_acc: 0.9815\n",
      "Epoch 13/40\n",
      "60000/60000 [==============================] - 78s 1ms/step - loss: 0.0524 - acc: 0.9891 - val_loss: 0.1208 - val_acc: 0.9832\n",
      "Epoch 14/40\n",
      "60000/60000 [==============================] - 78s 1ms/step - loss: 0.0526 - acc: 0.9893 - val_loss: 0.1064 - val_acc: 0.9812\n",
      "Epoch 15/40\n",
      "60000/60000 [==============================] - 78s 1ms/step - loss: 0.0511 - acc: 0.9899 - val_loss: 0.1352 - val_acc: 0.9808\n",
      "Epoch 16/40\n",
      "60000/60000 [==============================] - 78s 1ms/step - loss: 0.0479 - acc: 0.9903 - val_loss: 0.1193 - val_acc: 0.9825\n",
      "Epoch 17/40\n",
      "60000/60000 [==============================] - 81s 1ms/step - loss: 0.0493 - acc: 0.9907 - val_loss: 0.1411 - val_acc: 0.9803\n",
      "Epoch 18/40\n",
      "60000/60000 [==============================] - 79s 1ms/step - loss: 0.0519 - acc: 0.9898 - val_loss: 0.1575 - val_acc: 0.9770\n",
      "Epoch 19/40\n",
      "60000/60000 [==============================] - 106s 2ms/step - loss: 0.0489 - acc: 0.9911 - val_loss: 0.1586 - val_acc: 0.9803\n",
      "Epoch 20/40\n",
      "60000/60000 [==============================] - 93s 2ms/step - loss: 0.0510 - acc: 0.9910 - val_loss: 0.1569 - val_acc: 0.9805\n",
      "Epoch 21/40\n",
      "60000/60000 [==============================] - 90s 1ms/step - loss: 0.0531 - acc: 0.9908 - val_loss: 0.1194 - val_acc: 0.9831\n",
      "Epoch 22/40\n",
      "60000/60000 [==============================] - 91s 2ms/step - loss: 0.0506 - acc: 0.9906 - val_loss: 0.1401 - val_acc: 0.9802\n",
      "Epoch 23/40\n",
      "60000/60000 [==============================] - 75s 1ms/step - loss: 0.0494 - acc: 0.9911 - val_loss: 0.1279 - val_acc: 0.9806\n",
      "Epoch 24/40\n",
      "60000/60000 [==============================] - 75s 1ms/step - loss: 0.0490 - acc: 0.9917 - val_loss: 0.1412 - val_acc: 0.9811\n",
      "Epoch 25/40\n",
      "60000/60000 [==============================] - 75s 1ms/step - loss: 0.0495 - acc: 0.9916 - val_loss: 0.1592 - val_acc: 0.9817\n",
      "Epoch 26/40\n",
      "60000/60000 [==============================] - 75s 1ms/step - loss: 0.0489 - acc: 0.9919 - val_loss: 0.1443 - val_acc: 0.9840\n",
      "Epoch 27/40\n",
      "60000/60000 [==============================] - 75s 1ms/step - loss: 0.0505 - acc: 0.9924 - val_loss: 0.1568 - val_acc: 0.9821\n",
      "Epoch 28/40\n",
      "60000/60000 [==============================] - 75s 1ms/step - loss: 0.0562 - acc: 0.9919 - val_loss: 0.1622 - val_acc: 0.9821\n",
      "Epoch 29/40\n",
      "60000/60000 [==============================] - 75s 1ms/step - loss: 0.0501 - acc: 0.9922 - val_loss: 0.1442 - val_acc: 0.9829\n",
      "Epoch 30/40\n",
      "60000/60000 [==============================] - 80s 1ms/step - loss: 0.0544 - acc: 0.9919 - val_loss: 0.1417 - val_acc: 0.9836\n",
      "Epoch 31/40\n",
      "60000/60000 [==============================] - 75s 1ms/step - loss: 0.0489 - acc: 0.9924 - val_loss: 0.1841 - val_acc: 0.9801\n",
      "Epoch 32/40\n",
      "60000/60000 [==============================] - 76s 1ms/step - loss: 0.0487 - acc: 0.9926 - val_loss: 0.1665 - val_acc: 0.9813\n",
      "Epoch 33/40\n",
      "60000/60000 [==============================] - 75s 1ms/step - loss: 0.0511 - acc: 0.9928 - val_loss: 0.1523 - val_acc: 0.9803\n",
      "Epoch 34/40\n",
      "60000/60000 [==============================] - 75s 1ms/step - loss: 0.0526 - acc: 0.9926 - val_loss: 0.1586 - val_acc: 0.9822\n",
      "Epoch 35/40\n",
      "60000/60000 [==============================] - 76s 1ms/step - loss: 0.0549 - acc: 0.9926 - val_loss: 0.1486 - val_acc: 0.9840\n",
      "Epoch 36/40\n",
      "60000/60000 [==============================] - 76s 1ms/step - loss: 0.0549 - acc: 0.9929 - val_loss: 0.1538 - val_acc: 0.9838\n",
      "Epoch 37/40\n",
      "60000/60000 [==============================] - 76s 1ms/step - loss: 0.0556 - acc: 0.9924 - val_loss: 0.1720 - val_acc: 0.9821\n",
      "Epoch 38/40\n",
      "60000/60000 [==============================] - 76s 1ms/step - loss: 0.0498 - acc: 0.9932 - val_loss: 0.1786 - val_acc: 0.9810\n",
      "Epoch 39/40\n",
      "60000/60000 [==============================] - 75s 1ms/step - loss: 0.0489 - acc: 0.9933 - val_loss: 0.1795 - val_acc: 0.9814\n",
      "Epoch 40/40\n",
      "60000/60000 [==============================] - 77s 1ms/step - loss: 0.0542 - acc: 0.9929 - val_loss: 0.1839 - val_acc: 0.9811\n"
     ]
    }
   ],
   "source": [
    "history = model.fit(x_train, y_train\n",
    "                    , batch_size = batch_size\n",
    "                    , epochs = epochs\n",
    "                    , verbose = 1\n",
    "                    , validation_data=(x_test, y_test))"
   ]
  },
  {
   "cell_type": "code",
   "execution_count": 70,
   "metadata": {},
   "outputs": [],
   "source": [
    "import pandas as pd\n",
    "test = pd.read_csv(\"test.csv\")"
   ]
  },
  {
   "cell_type": "code",
   "execution_count": 71,
   "metadata": {},
   "outputs": [
    {
     "name": "stdout",
     "output_type": "stream",
     "text": [
      "(28000, 784)\n"
     ]
    }
   ],
   "source": [
    "print(test.shape)"
   ]
  },
  {
   "cell_type": "code",
   "execution_count": 72,
   "metadata": {},
   "outputs": [],
   "source": [
    "y_pred = model.predict(test)"
   ]
  },
  {
   "cell_type": "code",
   "execution_count": 73,
   "metadata": {},
   "outputs": [
    {
     "name": "stdout",
     "output_type": "stream",
     "text": [
      "[[0. 0. 1. ... 0. 0. 0.]\n",
      " [1. 0. 0. ... 0. 0. 0.]\n",
      " [0. 0. 0. ... 0. 0. 1.]\n",
      " ...\n",
      " [0. 0. 0. ... 0. 0. 0.]\n",
      " [0. 0. 0. ... 0. 0. 1.]\n",
      " [0. 0. 1. ... 0. 0. 0.]]\n"
     ]
    }
   ],
   "source": [
    "print(y_pred)"
   ]
  },
  {
   "cell_type": "code",
   "execution_count": 74,
   "metadata": {},
   "outputs": [],
   "source": [
    "result= [0]*28000\n",
    "\n",
    "for y, item in enumerate(y_pred):\n",
    "    for x, name in enumerate(item):\n",
    "        if name == 1:\n",
    "            result[y] = x\n",
    "            break"
   ]
  },
  {
   "cell_type": "code",
   "execution_count": 75,
   "metadata": {},
   "outputs": [
    {
     "name": "stdout",
     "output_type": "stream",
     "text": [
      "[2, 0, 9, 0, 3, 7, 0, 3, 0, 3, 5, 7]\n"
     ]
    }
   ],
   "source": [
    "print(result[0:12])"
   ]
  },
  {
   "cell_type": "code",
   "execution_count": 76,
   "metadata": {},
   "outputs": [
    {
     "name": "stdout",
     "output_type": "stream",
     "text": [
      "28000\n"
     ]
    }
   ],
   "source": [
    "print(len(result))\n",
    "submit_list = result"
   ]
  },
  {
   "cell_type": "code",
   "execution_count": 77,
   "metadata": {},
   "outputs": [],
   "source": [
    "import numpy as np\n",
    "imgid = np.array(np.arange(1,28001)).astype(int)\n",
    "result = pd.DataFrame(submit_list, imgid, columns = [\"Label\"])\n",
    "result.index.name = \"ImageId\"\n",
    "result.to_csv(\"digits_result06.csv\")"
   ]
  },
  {
   "cell_type": "code",
   "execution_count": 78,
   "metadata": {},
   "outputs": [
    {
     "name": "stdout",
     "output_type": "stream",
     "text": [
      "         Label\n",
      "ImageId       \n",
      "1            2\n",
      "2            0\n",
      "3            9\n",
      "4            0\n",
      "5            3\n",
      "6            7\n",
      "7            0\n",
      "8            3\n",
      "9            0\n",
      "10           3\n",
      "11           5\n",
      "12           7\n",
      "13           4\n",
      "14           0\n",
      "15           4\n",
      "16           3\n",
      "17           3\n",
      "18           1\n",
      "19           9\n",
      "20           0\n",
      "21           9\n",
      "22           1\n",
      "23           1\n",
      "24           5\n",
      "25           7\n",
      "26           4\n",
      "27           2\n",
      "28           7\n",
      "29           4\n",
      "30           7\n",
      "...        ...\n",
      "27971        5\n",
      "27972        0\n",
      "27973        4\n",
      "27974        8\n",
      "27975        0\n",
      "27976        3\n",
      "27977        6\n",
      "27978        0\n",
      "27979        1\n",
      "27980        9\n",
      "27981        3\n",
      "27982        1\n",
      "27983        1\n",
      "27984        0\n",
      "27985        4\n",
      "27986        5\n",
      "27987        2\n",
      "27988        2\n",
      "27989        9\n",
      "27990        6\n",
      "27991        7\n",
      "27992        6\n",
      "27993        1\n",
      "27994        9\n",
      "27995        7\n",
      "27996        9\n",
      "27997        7\n",
      "27998        3\n",
      "27999        9\n",
      "28000        2\n",
      "\n",
      "[28000 rows x 1 columns]\n"
     ]
    }
   ],
   "source": [
    "print(result)"
   ]
  },
  {
   "cell_type": "code",
   "execution_count": null,
   "metadata": {},
   "outputs": [],
   "source": []
  },
  {
   "cell_type": "code",
   "execution_count": null,
   "metadata": {},
   "outputs": [],
   "source": []
  }
 ],
 "metadata": {
  "kernelspec": {
   "display_name": "Python 3",
   "language": "python",
   "name": "python3"
  },
  "language_info": {
   "codemirror_mode": {
    "name": "ipython",
    "version": 3
   },
   "file_extension": ".py",
   "mimetype": "text/x-python",
   "name": "python",
   "nbconvert_exporter": "python",
   "pygments_lexer": "ipython3",
   "version": "3.6.6"
  }
 },
 "nbformat": 4,
 "nbformat_minor": 2
}
